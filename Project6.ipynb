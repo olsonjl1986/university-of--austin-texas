{
  "nbformat": 4,
  "nbformat_minor": 0,
  "metadata": {
    "colab": {
      "name": "Untitled1.ipynb",
      "provenance": [],
      "authorship_tag": "ABX9TyPf0dYsxjENHpTzrAHzcSj2",
      "include_colab_link": true
    },
    "kernelspec": {
      "name": "python3",
      "display_name": "Python 3"
    },
    "language_info": {
      "name": "python"
    }
  },
  "cells": [
    {
      "cell_type": "markdown",
      "metadata": {
        "id": "view-in-github",
        "colab_type": "text"
      },
      "source": [
        "<a href=\"https://colab.research.google.com/github/olsonjl1986/university-of--austin-texas/blob/main/Project6.ipynb\" target=\"_parent\"><img src=\"https://colab.research.google.com/assets/colab-badge.svg\" alt=\"Open In Colab\"/></a>"
      ]
    },
    {
      "cell_type": "markdown",
      "metadata": {
        "id": "N-rg-3MAtwfy"
      },
      "source": [
        ""
      ]
    },
    {
      "cell_type": "markdown",
      "metadata": {
        "id": "F5pJEPl9t10D"
      },
      "source": [
        "# Project outline\n",
        "\n",
        ">- 1) import libraries\n",
        ">- 2) Define Project\n",
        ">- 3) Import Data, get basic statistics, shape of data, sum of missing vaules, and variable types\n",
        ">- 4) Preprocessing the data for the models\n",
        ">- 5) EDA\n",
        ">- 6) Transform data if needed\n",
        ">- 7) Define functions for model analyis \n",
        "    - Confusion Matrix\n",
        "    - Scoring function to display metrics of parameters\n",
        ">- 8) Define feature matrices & Split model into testing and training data\n",
        ">- 9) Instantiate model, fit and score base models, then compare each one with dataframe\n",
        ">- 10) Hypertune models \n",
        ">- 11) Conclusion and business insight."
      ]
    },
    {
      "cell_type": "code",
      "metadata": {
        "id": "HU8J06fPtzGM"
      },
      "source": [
        ""
      ],
      "execution_count": null,
      "outputs": []
    }
  ]
}