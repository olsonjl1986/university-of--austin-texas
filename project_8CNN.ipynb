{
  "nbformat": 4,
  "nbformat_minor": 0,
  "metadata": {
    "colab": {
      "name": "project 8CNN.ipynb",
      "provenance": [],
      "authorship_tag": "ABX9TyPm6EKgWTBtzvfOPfMLAlG9",
      "include_colab_link": true
    },
    "kernelspec": {
      "name": "python3",
      "display_name": "Python 3"
    },
    "language_info": {
      "name": "python"
    },
    "accelerator": "GPU"
  },
  "cells": [
    {
      "cell_type": "markdown",
      "metadata": {
        "id": "view-in-github",
        "colab_type": "text"
      },
      "source": [
        "<a href=\"https://colab.research.google.com/github/olsonjl1986/university-of--austin-texas/blob/main/project_8CNN.ipynb\" target=\"_parent\"><img src=\"https://colab.research.google.com/assets/colab-badge.svg\" alt=\"Open In Colab\"/></a>"
      ]
    },
    {
      "cell_type": "markdown",
      "metadata": {
        "id": "N-rg-3MAtwfy"
      },
      "source": [
        "###Project Statement- \n",
        ">- You are provided with a dataset of images of plant seedlings at various stages of grown. Each image has a filename that is its unique id. The dataset comprises 12 plant species. The goal of the project is to create a classifier capable of determining a plant's species from a photo."
      ]
    },
    {
      "cell_type": "markdown",
      "metadata": {
        "id": "F5pJEPl9t10D"
      },
      "source": [
        "# Project outline\n",
        "\n",
        ">- 1) import libraries\n",
        ">- 2) Define Project\n",
        ">- 3) Import Data, get basic statistics, shape of data, sum of missing vaules, and variable types\n",
        ">- 4) Preprocessing the data for the models\n",
        " - turn images into grayscale\n",
        ">\n",
        ">- 5) Transform data if needed\n",
        "    - create training and test sets for data \n",
        "    - Resize images into 128 x 128 \n",
        "    - Normalize data by divding each pixel value by 255 \n",
        "      a pixel value can be max value of 255 becuase 2^8-1 = 255 (8bits of resolution for pixel values)\n",
        "    - Turn orginal image into grayscale image to simplify processing of CNN\n",
        ">- 6) EDA\n",
        "    - Count of each image class in dataset\n",
        "    - pie chart counting each image class\n",
        "    -\n",
        "    - Plot mean image of each class\n",
        "    - Plot contrast difference between mean image of each class \n",
        "    - \n",
        ">- 7) Build CNN for classification of 12 different image classes \n",
        "    - Use sequential model from tensorflow keras \n",
        "    - Compile cnn model with \n",
        "    - compile models with early stopping feature to be more efficient if model doens't improve\n",
        ">- 8) Tune CNN according to ROC-AUC curve\n",
        "    - Use np.argmax of [tpr- fpr] and then pass this index to the threholds array\n",
        "    - Use threshold to improve recall scores by changing default threshold parameters \n",
        "    - Use keras classifier to hypertune model to get optimal output by using\n",
        "  best params \n",
        "\n",
        ">- 9) Conclusion and business insight. \n"
      ]
    },
    {
      "cell_type": "markdown",
      "source": [
        "### 1) Import libraries needed"
      ],
      "metadata": {
        "id": "5bDzN9jA8c88"
      }
    },
    {
      "cell_type": "markdown",
      "source": [
        ""
      ],
      "metadata": {
        "id": "pK5w1TVvhU5Z"
      }
    },
    {
      "cell_type": "markdown",
      "source": [
        "1) Import Libraries needed"
      ],
      "metadata": {
        "id": "omXM1RWAMreH"
      }
    },
    {
      "cell_type": "code",
      "metadata": {
        "colab": {
          "base_uri": "https://localhost:8080/"
        },
        "id": "HU8J06fPtzGM",
        "outputId": "60b37ed5-a223-4cdb-fb95-2e30ac80a921"
      },
      "source": [
        "%tensorflow_version 2.x\n",
        "import tensorflow as tf\n",
        "import pandas as pd\n",
        "import numpy as np\n",
        "\n",
        "import matplotlib.pyplot as plt\n",
        "import seaborn as sns\n",
        "sns.set_theme()\n",
        "\n",
        "# Removes the limit from the number of displayed columns\n",
        "pd.set_option(\"display.max_columns\", None)\n",
        "# Changes the limit of number of displayed rows to 200\n",
        "pd.set_option(\"display.max_rows\", 200)\n",
        "\n",
        "# import function\n",
        "\n",
        "%matplotlib inline\n",
        "import seaborn as sns\n",
        "\n",
        "\n",
        "# import scaling \n",
        "from scipy.stats import zscore\n",
        "from sklearn.preprocessing import StandardScaler\n",
        "\n",
        "# neural network libraries\n",
        "import tensorflow as tf\n",
        "#from tensorflow import keras # importing keras library\n",
        "from tensorflow.keras import Sequential  # importing the Sequential Model\n",
        "#from keras.layers import Dense       # importing Dense layer\n",
        "\n",
        "from tensorflow.keras.layers import Dense, InputLayer, Dropout\n",
        "from tensorflow.keras.optimizers import Adam # Optimizer\n",
        "#from tensorflow.keras.optimizers import leakyRelu\n",
        "from tensorflow.keras.layers import LeakyReLU\n",
        "from tensorflow.keras.utils import to_categorical #to perform one-hot encoding\n",
        "\n",
        "# import CNN Libraries \n",
        "\n",
        "from tensorflow.keras.layers import Conv2D              # This layer creates a convolution kernel that is convolved with the layer input to produce a tensor of outputs.\n",
        "from tensorflow.keras.layers import MaxPooling2D        # Max pooling operation for 2D spatial data.\n",
        "from tensorflow.keras.layers import Flatten             # Flattens the input. Does not affect the batch size.\n",
        "\n",
        "# Ignore the warnings\n",
        "import warnings\n",
        "warnings.filterwarnings(\"ignore\")\n",
        "\n",
        "\n",
        "\n",
        "\n",
        "\n",
        "# import sklearn.metrics\n",
        "\n",
        "from sklearn import metrics\n",
        "from sklearn.model_selection import train_test_split, StratifiedKFold, cross_val_score\n",
        "from sklearn.metrics import (\n",
        "    f1_score,\n",
        "    accuracy_score,\n",
        "    recall_score,\n",
        "    precision_score,\n",
        "    confusion_matrix,\n",
        "    roc_auc_score,\n",
        "    plot_confusion_matrix,\n",
        ")\n",
        "import cv2\n",
        "from sklearn.metrics import confusion_matrix, roc_auc_score, roc_curve\n",
        "from google.colab import drive\n",
        "drive.mount('/content/drive')"
      ],
      "execution_count": 2,
      "outputs": [
        {
          "output_type": "stream",
          "name": "stdout",
          "text": [
            "Drive already mounted at /content/drive; to attempt to forcibly remount, call drive.mount(\"/content/drive\", force_remount=True).\n"
          ]
        }
      ]
    },
    {
      "cell_type": "markdown",
      "source": [
        "###3) import data, check shape of data, and check type of data "
      ],
      "metadata": {
        "id": "3CPUtBBscufM"
      }
    },
    {
      "cell_type": "code",
      "metadata": {
        "id": "zVGHs1XhzLxg",
        "colab": {
          "base_uri": "https://localhost:8080/"
        },
        "outputId": "fd7989be-7ea8-44a8-ad7e-8edcd6e7a055"
      },
      "source": [
        "# define folder path to access image files\n",
        "\n",
        "folderPath = \"/content/drive/My Drive/ColabNotebooks/IntroToComputerVision/Project8/\"\n",
        "\n",
        "images = np.load(folderPath + 'images.npy', encoding='bytes')\n",
        "labels = pd.read_csv(folderPath + \"Labels.csv\")\n",
        "labels.shape\n"
      ],
      "execution_count": 3,
      "outputs": [
        {
          "output_type": "execute_result",
          "data": {
            "text/plain": [
              "(4750, 1)"
            ]
          },
          "metadata": {},
          "execution_count": 3
        }
      ]
    },
    {
      "cell_type": "code",
      "source": [
        "categories = [\"Small-flowered Cranesbill\",\"Fat Hen\",\"Shepherds Purse\",\"Common wheat\",\"Common Chickweed\",\n",
        "\"Charlock\",\"Cleavers\",\"Scentless Mayweed\",\"Sugar beet\",\"Maize\",\"Black-grass\",\"Loose Silky-bent\"]"
      ],
      "metadata": {
        "id": "waBw8bPkVPkE"
      },
      "execution_count": 4,
      "outputs": []
    },
    {
      "cell_type": "code",
      "source": [
        "images.shape"
      ],
      "metadata": {
        "colab": {
          "base_uri": "https://localhost:8080/"
        },
        "id": "uDcNqizc0T09",
        "outputId": "18681d13-23d7-4807-cc81-74ccb7a68db6"
      },
      "execution_count": 5,
      "outputs": [
        {
          "output_type": "execute_result",
          "data": {
            "text/plain": [
              "(4750, 128, 128, 3)"
            ]
          },
          "metadata": {},
          "execution_count": 5
        }
      ]
    },
    {
      "cell_type": "code",
      "source": [
        "len(images)"
      ],
      "metadata": {
        "colab": {
          "base_uri": "https://localhost:8080/"
        },
        "id": "EQxNcMim0pMb",
        "outputId": "7f7fbae2-1497-43ed-a86d-bb0a5326fd05"
      },
      "execution_count": 6,
      "outputs": [
        {
          "output_type": "execute_result",
          "data": {
            "text/plain": [
              "4750"
            ]
          },
          "metadata": {},
          "execution_count": 6
        }
      ]
    },
    {
      "cell_type": "code",
      "source": [
        "print(type(labels))\n",
        "print(type(images))"
      ],
      "metadata": {
        "colab": {
          "base_uri": "https://localhost:8080/"
        },
        "id": "siKT3xNkdJuK",
        "outputId": "c8b9d594-af1f-497e-a6c4-8907e1a97791"
      },
      "execution_count": 7,
      "outputs": [
        {
          "output_type": "stream",
          "name": "stdout",
          "text": [
            "<class 'pandas.core.frame.DataFrame'>\n",
            "<class 'numpy.ndarray'>\n"
          ]
        }
      ]
    },
    {
      "cell_type": "markdown",
      "source": [
        ""
      ],
      "metadata": {
        "id": "s9zqABnSlkbV"
      }
    },
    {
      "cell_type": "markdown",
      "source": [
        "### 4), 5) turn images into grayscale and define xtrain and ytrain\n",
        "\n",
        "> Indented block\n",
        "\n"
      ],
      "metadata": {
        "id": "NOti8Xv6llE8"
      }
    },
    {
      "cell_type": "code",
      "source": [
        "#define list for x_train images and convert to grayscale\n",
        "\n",
        "X_train = []\n",
        "\n",
        "for img in images:\n",
        "  #img_gray = cv2.cvtColor(images[img], cv2.COLOR_BGR2GRAY)\n",
        "  X_train.append(cv2.cvtColor(img, cv2.COLOR_BGR2GRAY))\n",
        "  "
      ],
      "metadata": {
        "id": "jeP1UJPj0t1M"
      },
      "execution_count": 8,
      "outputs": []
    },
    {
      "cell_type": "code",
      "source": [
        "# verify if images was turned into grayscale\n",
        "\n",
        "plt.imshow(X_train[1], cmap='Greys_r')\n",
        "#plt.title(labels[1])\n",
        "plt.axis('off')\n",
        "plt.show()"
      ],
      "metadata": {
        "colab": {
          "base_uri": "https://localhost:8080/",
          "height": 248
        },
        "id": "hAp_zuf1f9mF",
        "outputId": "cf9d27ee-44d9-495f-ab3d-88ae5cac4ca6"
      },
      "execution_count": 9,
      "outputs": [
        {
          "output_type": "display_data",
          "data": {
            "image/png": "[encoded data removed]",
            "text/plain": [
              "<Figure size 432x288 with 1 Axes>"
            ]
          },
          "metadata": {
            "needs_background": "light"
          }
        }
      ]
    },
    {
      "cell_type": "code",
      "source": [
        "# define y-train matrix to correctly identify each class\n",
        "encoded_labels = pd.get_dummies(labels)\n",
        "y_train = np.array(encoded_labels)\n"
      ],
      "metadata": {
        "id": "G9l9bVY4hGAs"
      },
      "execution_count": 10,
      "outputs": []
    },
    {
      "cell_type": "code",
      "source": [
        "y_train.shape"
      ],
      "metadata": {
        "colab": {
          "base_uri": "https://localhost:8080/"
        },
        "id": "-Y6JTBctjg_j",
        "outputId": "58f31d3e-4541-437c-961a-10ab005fca4c"
      },
      "execution_count": 11,
      "outputs": [
        {
          "output_type": "execute_result",
          "data": {
            "text/plain": [
              "(4750, 12)"
            ]
          },
          "metadata": {},
          "execution_count": 11
        }
      ]
    },
    {
      "cell_type": "code",
      "source": [
        "# Normalize data for X_train array by dividing by 255, which is max value for a pixel.\n",
        "IMG_SIZE =128\n",
        "X_train_s = np.array(X_train)/255.0\n",
        "X_train_s, X_test, y_train_s, y_test = train_test_split(X_train, y_train, test_size=0.1, random_state = 1, stratify = y_train)\n",
        "X_train_s = np.array(X_train_s).reshape(-1,IMG_SIZE,IMG_SIZE,1)\n",
        "#X_test = X_test.reshape(-1,IMG_SIZE,IMG_SIZE,1)"
      ],
      "metadata": {
        "id": "3wYZILNxmC07"
      },
      "execution_count": 12,
      "outputs": []
    },
    {
      "cell_type": "code",
      "source": [
        ""
      ],
      "metadata": {
        "id": "1kIj6ZUhmDZq"
      },
      "execution_count": 12,
      "outputs": []
    },
    {
      "cell_type": "markdown",
      "source": [
        "### 6) EDA\n",
        "- sum up each count of each class\n",
        "- plot pie chart of ccount of each class\n",
        "- plot mean of each class  "
      ],
      "metadata": {
        "id": "Nx0YpiOsmDxh"
      }
    },
    {
      "cell_type": "code",
      "source": [
        "class_label = []\n",
        "for label, content in encoded_labels.items():\n",
        "  class_label.append(label)\n",
        "  print(label)\n",
        "  #class_label.append(feature.unique())\n"
      ],
      "metadata": {
        "colab": {
          "base_uri": "https://localhost:8080/"
        },
        "id": "utOTMDy2mnHa",
        "outputId": "7dac602b-bab6-4c60-cee9-2dc663c5ae52"
      },
      "execution_count": 13,
      "outputs": [
        {
          "output_type": "stream",
          "name": "stdout",
          "text": [
            "Label_Black-grass\n",
            "Label_Charlock\n",
            "Label_Cleavers\n",
            "Label_Common Chickweed\n",
            "Label_Common wheat\n",
            "Label_Fat Hen\n",
            "Label_Loose Silky-bent\n",
            "Label_Maize\n",
            "Label_Scentless Mayweed\n",
            "Label_Shepherds Purse\n",
            "Label_Small-flowered Cranesbill\n",
            "Label_Sugar beet\n"
          ]
        }
      ]
    },
    {
      "cell_type": "code",
      "source": [
        "class_label"
      ],
      "metadata": {
        "colab": {
          "base_uri": "https://localhost:8080/"
        },
        "id": "U_lg7MH8nMhZ",
        "outputId": "b40d4c62-2a3f-4572-954a-cc8960de283f"
      },
      "execution_count": 14,
      "outputs": [
        {
          "output_type": "execute_result",
          "data": {
            "text/plain": [
              "['Label_Black-grass',\n",
              " 'Label_Charlock',\n",
              " 'Label_Cleavers',\n",
              " 'Label_Common Chickweed',\n",
              " 'Label_Common wheat',\n",
              " 'Label_Fat Hen',\n",
              " 'Label_Loose Silky-bent',\n",
              " 'Label_Maize',\n",
              " 'Label_Scentless Mayweed',\n",
              " 'Label_Shepherds Purse',\n",
              " 'Label_Small-flowered Cranesbill',\n",
              " 'Label_Sugar beet']"
            ]
          },
          "metadata": {},
          "execution_count": 14
        }
      ]
    },
    {
      "cell_type": "code",
      "source": [
        "list(labels.Label.unique())"
      ],
      "metadata": {
        "colab": {
          "base_uri": "https://localhost:8080/"
        },
        "id": "fBTCWy8QUez3",
        "outputId": "c0d36f2a-3c03-47cc-8f4a-a1c4607edae1"
      },
      "execution_count": 15,
      "outputs": [
        {
          "output_type": "execute_result",
          "data": {
            "text/plain": [
              "['Small-flowered Cranesbill',\n",
              " 'Fat Hen',\n",
              " 'Shepherds Purse',\n",
              " 'Common wheat',\n",
              " 'Common Chickweed',\n",
              " 'Charlock',\n",
              " 'Cleavers',\n",
              " 'Scentless Mayweed',\n",
              " 'Sugar beet',\n",
              " 'Maize',\n",
              " 'Black-grass',\n",
              " 'Loose Silky-bent']"
            ]
          },
          "metadata": {},
          "execution_count": 15
        }
      ]
    },
    {
      "cell_type": "code",
      "source": [
        "#plotting the pie chart \n",
        " \n",
        "\n",
        "plot_categories = []\n",
        "for i in labels.value_counts().keys():\n",
        "  plot_categories.append(i)\n",
        "sizes = [labels.value_counts()]\n",
        "\n",
        "explode = (0, 0.1)\n",
        "fig1, ax1 = plt.subplots(figsize=(15, 15))\n",
        "ax1.pie(sizes, explode=None, labels=plot_categories, autopct='%1.1f%%',\n",
        "        shadow=True, startangle=90, rotatelabels = False)\n",
        "ax1.axis('equal')\n",
        "#fontdict = {'fontsize': rcParams['axes.titlesize'],\n",
        "# 'fontweight' : rcParams['axes.titleweight'],\n",
        "# 'color' : rcParams['axes.titlecolor'],\n",
        "# 'verticalalignment': 'baseline',\n",
        "# 'horizontalalignment': loc}\n",
        "plt.title(\"Proportion of each class of plant\", size = 20, loc = \"left\")\n",
        "plt.show()"
      ],
      "metadata": {
        "colab": {
          "base_uri": "https://localhost:8080/",
          "height": 873
        },
        "id": "tFxBb_ovmTBq",
        "outputId": "b513c741-b2c5-4d9c-e318-7e17cfb72fa0"
      },
      "execution_count": 16,
      "outputs": [
        {
          "output_type": "display_data",
          "data": {
            "image/png": "[encoded data removed]",
            "text/plain": [
              "<Figure size 1080x1080 with 1 Axes>"
            ]
          },
          "metadata": {}
        }
      ]
    },
    {
      "cell_type": "code",
      "source": [
        "# plot mean image from each image classs"
      ],
      "metadata": {
        "id": "uBtO-qygrKpI"
      },
      "execution_count": 17,
      "outputs": []
    },
    {
      "cell_type": "code",
      "source": [
        "def find_mean_img(full_mat, title):\n",
        "    # calculate the average\n",
        "    mean_img = np.mean(full_mat, axis = 0)\n",
        "    # reshape it back to a matrix\n",
        "    mean_img = mean_img.reshape((128,128))\n",
        "    plt.imshow(mean_img, vmin=0, vmax=255, cmap='Greys_r')\n",
        "    plt.title(f'Average {title}')\n",
        "    plt.axis('off')\n",
        "    plt.show()\n",
        "    return mean_img"
      ],
      "metadata": {
        "id": "l7WZpyKZthj9"
      },
      "execution_count": 18,
      "outputs": []
    },
    {
      "cell_type": "markdown",
      "source": [
        ""
      ],
      "metadata": {
        "id": "RbJEq5adrJri"
      }
    },
    {
      "cell_type": "code",
      "source": [
        "Small_flowered_Cranesbill = []\n",
        "Fat_Hen = []\n",
        "Shepherds_Purse = []\n",
        "Common_wheat = []\n",
        "Common_Chickweed = []\n",
        "Charlock = []\n",
        "Cleavers = []\n",
        "Scentless_Mayweed = []\n",
        "Sugar_beet = []\n",
        "Maize = []\n",
        "Black_grass = []\n",
        "Loose_Silky_bent = []\n",
        "\n",
        "plant_list = []\n",
        "\n",
        "IMG_SIZE = 128\n",
        "#new_array = cv2.resize(np.array(X_train),(IMG_SIZE,IMG_SIZE)) \n",
        "for cat in categories:  \n",
        "  for img in X_train:\n",
        "    new_array = np.array(img).reshape(-1,IMG_SIZE,IMG_SIZE,1)\n",
        "    #X_train_s = X_train_s.reshape(-1,128,128,1)\n",
        "    if cat==categories[0]:\n",
        "      Small_flowered_Cranesbill.append([new_array])\n",
        "      \n",
        "    if cat==categories[1]:\n",
        "      Fat_Hen.append([new_array])\n",
        "    if cat==categories[2]:\n",
        "      Shepherds_Purse.append([new_array])\n",
        "    if cat==categories[3]:\n",
        "      Common_wheat.append([new_array])\n",
        "    if cat==categories[4]:\n",
        "      Common_Chickweed.append([new_array])\n",
        "    if cat==categories[5]:\n",
        "      Charlock.append([new_array])\n",
        "    if cat==categories[6]:\n",
        "      Cleavers.append([new_array])\n",
        "    if cat==categories[7]:\n",
        "      Scentless_Mayweed.append([new_array])\n",
        "    if cat==categories[8]:\n",
        "      Sugar_beet.append([new_array])\n",
        "    if cat==categories[9]:\n",
        "      Maize.append([new_array])\n",
        "    if cat==categories[10]:\n",
        "      Black_grass.append([new_array])\n",
        "    if cat==categories[10]:\n",
        "      Loose_Silky_bent.append([new_array])\n",
        "\n",
        "plant_list = [Small_flowered_Cranesbill,\n",
        "Fat_Hen,\n",
        "Shepherds_Purse, \n",
        "Common_wheat, \n",
        "Common_Chickweed,\n",
        "Charlock, \n",
        "Cleavers, \n",
        "Scentless_Mayweed,\n",
        "Sugar_beet, \n",
        "Maize,\n",
        "Black_grass, \n",
        "Loose_Silky_bent] \n",
        "    \n",
        "    \n",
        "    \n",
        "               "
      ],
      "metadata": {
        "id": "xE7nZlUytqE2"
      },
      "execution_count": 19,
      "outputs": []
    },
    {
      "cell_type": "code",
      "source": [
        "# iterate over each average image\n",
        "for i,j in enumerate(plant_list):\n",
        "  #for j in categories:\n",
        "  find_mean_img(np.array(j),i)"
      ],
      "metadata": {
        "colab": {
          "base_uri": "https://localhost:8080/",
          "height": 1000
        },
        "id": "6BdcvPOrEzGJ",
        "outputId": "a35dce14-7f5c-4f53-9570-afa7934dfa0a"
      },
      "execution_count": 20,
      "outputs": [
        {
          "output_type": "display_data",
          "data": {
            "image/png": "[encoded data removed]",
            "text/plain": [
              "<Figure size 432x288 with 1 Axes>"
            ]
          },
          "metadata": {
            "needs_background": "light"
          }
        },
        {
          "output_type": "display_data",
          "data": {
            "image/png": "[encoded data removed]",
            "text/plain": [
              "<Figure size 432x288 with 1 Axes>"
            ]
          },
          "metadata": {
            "needs_background": "light"
          }
        },
        {
          "output_type": "display_data",
          "data": {
            "image/png": "[encoded data removed]",
            "text/plain": [
              "<Figure size 432x288 with 1 Axes>"
            ]
          },
          "metadata": {
            "needs_background": "light"
          }
        },
        {
          "output_type": "display_data",
          "data": {
            "image/png": "[encoded data removed]",
            "text/plain": [
              "<Figure size 432x288 with 1 Axes>"
            ]
          },
          "metadata": {
            "needs_background": "light"
          }
        },
        {
          "output_type": "display_data",
          "data": {
            "image/png": "[encoded data removed]",
            "text/plain": [
              "<Figure size 432x288 with 1 Axes>"
            ]
          },
          "metadata": {
            "needs_background": "light"
          }
        },
        {
          "output_type": "display_data",
          "data": {
            "image/png": "[encoded data removed]",
            "text/plain": [
              "<Figure size 432x288 with 1 Axes>"
            ]
          },
          "metadata": {
            "needs_background": "light"
          }
        },
        {
          "output_type": "display_data",
          "data": {
            "image/png": "[encoded data removed]",
            "text/plain": [
              "<Figure size 432x288 with 1 Axes>"
            ]
          },
          "metadata": {
            "needs_background": "light"
          }
        },
        {
          "output_type": "display_data",
          "data": {
            "image/png": "[encoded data removed]",
            "text/plain": [
              "<Figure size 432x288 with 1 Axes>"
            ]
          },
          "metadata": {
            "needs_background": "light"
          }
        },
        {
          "output_type": "display_data",
          "data": {
            "image/png": "[encoded data removed]",
            "text/plain": [
              "<Figure size 432x288 with 1 Axes>"
            ]
          },
          "metadata": {
            "needs_background": "light"
          }
        },
        {
          "output_type": "display_data",
          "data": {
            "image/png": "[encoded data removed]",
            "text/plain": [
              "<Figure size 432x288 with 1 Axes>"
            ]
          },
          "metadata": {
            "needs_background": "light"
          }
        },
        {
          "output_type": "display_data",
          "data": {
            "image/png": "[encoded data removed]",
            "text/plain": [
              "<Figure size 432x288 with 1 Axes>"
            ]
          },
          "metadata": {
            "needs_background": "light"
          }
        },
        {
          "output_type": "display_data",
          "data": {
            "image/png": "[encoded data removed]",
            "text/plain": [
              "<Figure size 432x288 with 1 Axes>"
            ]
          },
          "metadata": {
            "needs_background": "light"
          }
        }
      ]
    },
    {
      "cell_type": "markdown",
      "source": [
        "### Using code from this source to process background of images \n",
        "### and plot them in subplot.\n",
        "https://www.analyticsvidhya.com/blog/2021/05/plant-seedlings-classification-using-cnn-with-python-code/"
      ],
      "metadata": {
        "id": "9nOHed0UjvQ8"
      }
    },
    {
      "cell_type": "code",
      "source": [
        "\n",
        "cleaned_img = []\n",
        "sets = []; getEx = True\n",
        "for i in images:\n",
        "    blurr = cv2.GaussianBlur(i,(5,5),0)\n",
        "    hsv = cv2.cvtColor(blurr,cv2.COLOR_BGR2HSV)\n",
        "    #GREEN PARAMETERS\n",
        "    lower = (25,40,50)\n",
        "    upper = (75,255,255)\n",
        "    mask = cv2.inRange(hsv,lower,upper)\n",
        "    struc = cv2.getStructuringElement(cv2.MORPH_ELLIPSE,(11,11))\n",
        "    mask = cv2.morphologyEx(mask,cv2.MORPH_CLOSE,struc)\n",
        "    boolean = mask>0\n",
        "    new = np.zeros_like(i,np.uint8)\n",
        "    new[boolean] = i[boolean]\n",
        "    cleaned_img.append(new)\n",
        "    if getEx:\n",
        "        plt.subplot(2,3,1);plt.imshow(i) # ORIGINAL\n",
        "        plt.subplot(2,3,2);plt.imshow(blurr) # BLURRED\n",
        "        plt.subplot(2,3,3);plt.imshow(hsv) # HSV CONVERTED\n",
        "        plt.subplot(2,3,4);plt.imshow(mask) # MASKED\n",
        "        plt.subplot(2,3,5);plt.imshow(boolean) # BOOLEAN MASKED\n",
        "        plt.subplot(2,3,6);plt.imshow(new) # NEW PROCESSED IMAGE\n",
        "        plt.show()\n",
        "        getEx = False\n",
        "cleaned_img = np.asarray(cleaned_img)\n",
        "# CLEANED IMAGES\n",
        "for i in range(8):\n",
        "    plt.subplot(2,4,i+1)\n",
        "    plt.imshow(cleaned_img[i])"
      ],
      "metadata": {
        "colab": {
          "base_uri": "https://localhost:8080/",
          "height": 500
        },
        "id": "G2oNGg9qu9xU",
        "outputId": "be63eb98-a482-4404-c634-324c32ae7726"
      },
      "execution_count": 21,
      "outputs": [
        {
          "output_type": "display_data",
          "data": {
            "image/png": "[encoded data removed]",
            "text/plain": [
              "<Figure size 432x288 with 6 Axes>"
            ]
          },
          "metadata": {
            "needs_background": "light"
          }
        },
        {
          "output_type": "display_data",
          "data": {
            "image/png": "[encoded data removed]",
            "text/plain": [
              "<Figure size 432x288 with 8 Axes>"
            ]
          },
          "metadata": {
            "needs_background": "light"
          }
        }
      ]
    },
    {
      "cell_type": "code",
      "source": [
        "cleaned_img.shape"
      ],
      "metadata": {
        "colab": {
          "base_uri": "https://localhost:8080/"
        },
        "id": "7dAg-o-Nyzf8",
        "outputId": "901de032-ad30-452f-af43-8b915bacb9bb"
      },
      "execution_count": 22,
      "outputs": [
        {
          "output_type": "execute_result",
          "data": {
            "text/plain": [
              "(4750, 128, 128, 3)"
            ]
          },
          "metadata": {},
          "execution_count": 22
        }
      ]
    },
    {
      "cell_type": "code",
      "source": [
        "# define new x_train and y_train from background removed with grayscale\n",
        "\n",
        "X_train_new = []\n",
        "#X_train_new = cv2.cvtColor(cleaned_img, cv2.COLOR_BGR2GRAY)\n",
        "for img in cleaned_img:\n",
        "  #img_gray = cv2.cvtColor(cleaned_img[img], cv2.COLOR_BGR2GRAY)\n",
        "  X_train_new.append(cv2.cvtColor(img, cv2.COLOR_BGR2GRAY))"
      ],
      "metadata": {
        "id": "bFg_0JHJw9mK"
      },
      "execution_count": 23,
      "outputs": []
    },
    {
      "cell_type": "code",
      "source": [
        "np.array(X_train_new).shape"
      ],
      "metadata": {
        "colab": {
          "base_uri": "https://localhost:8080/"
        },
        "id": "9MMG8uXw64je",
        "outputId": "d4a8caad-2f8e-4bb9-8cbc-dadfc8a7fea8"
      },
      "execution_count": 24,
      "outputs": [
        {
          "output_type": "execute_result",
          "data": {
            "text/plain": [
              "(4750, 128, 128)"
            ]
          },
          "metadata": {},
          "execution_count": 24
        }
      ]
    },
    {
      "cell_type": "code",
      "source": [
        "# Normalize data for X_train array by dividing by 255, which is max value for a pixel.\n",
        "IMG_SIZE =128\n",
        "X_train_new = np.array(X_train_new)\n",
        "X_train_s, X_test, y_train_s, y_test = train_test_split(np.array(X_train_new), y_train, test_size=0.1, random_state = 1, stratify = y_train)\n",
        "X_train_s = (X_train_s).reshape(-1,IMG_SIZE,IMG_SIZE,1)\n",
        "X_train_s = (X_train_s)/255.0\n",
        "#X_test = X_test.reshape(-1,IMG_SIZE,IMG_SIZE,1)"
      ],
      "metadata": {
        "id": "QZPyCoxgzdn1"
      },
      "execution_count": 25,
      "outputs": []
    },
    {
      "cell_type": "code",
      "source": [
        "np.array(X_train_s).shape"
      ],
      "metadata": {
        "colab": {
          "base_uri": "https://localhost:8080/"
        },
        "id": "7XssOf0HkYzA",
        "outputId": "47b2e1ca-d7ca-48ad-8732-9bb54ddb46cf"
      },
      "execution_count": 26,
      "outputs": [
        {
          "output_type": "execute_result",
          "data": {
            "text/plain": [
              "(4275, 128, 128, 1)"
            ]
          },
          "metadata": {},
          "execution_count": 26
        }
      ]
    },
    {
      "cell_type": "markdown",
      "source": [
        "### 7) Build CNN model with sequential model\n",
        "\n",
        "\n"
      ],
      "metadata": {
        "id": "zkdVh7s3jvXs"
      }
    },
    {
      "cell_type": "code",
      "source": [
        "model = Sequential()\n",
        "model.add(Conv2D(64, 3, activation=\"relu\", padding=\"same\", input_shape=(128,128,1)))\n",
        "model.add(MaxPooling2D(2))\n",
        "model.add(Conv2D(128, 3, activation=\"relu\", padding=\"same\"))\n",
        "model.add(Flatten())\n",
        "model.add(Dense(64,activation=\"relu\"))\n",
        "model.add(Dropout(0.5))\n",
        "model.add(Dense(32,activation=\"relu\"))\n",
        "model.add(Dropout(0.5))\n",
        "model.add(Dense(12, activation=\"softmax\"))\n",
        "optimizer = Adam()\n",
        "loss = tf.keras.losses.CategoricalCrossentropy()\n",
        "model.compile(loss=loss, optimizer=optimizer, metrics=[\"accuracy\"])\n",
        "history = model.fit(np.array(X_train_s),np.array(y_train_s), validation_split=0.1, batch_size=256,epochs=30)\n",
        "acc=model.evaluate(np.array(X_test),np.array(y_test))"
      ],
      "metadata": {
        "colab": {
          "base_uri": "https://localhost:8080/"
        },
        "id": "Z6e6l_p-j3dW",
        "outputId": "811bcfc8-1043-4471-afe0-fc5b37443da0"
      },
      "execution_count": 27,
      "outputs": [
        {
          "output_type": "stream",
          "name": "stdout",
          "text": [
            "Epoch 1/30\n",
            "16/16 [==============================] - 13s 167ms/step - loss: 2.4811 - accuracy: 0.1352 - val_loss: 2.2667 - val_accuracy: 0.3551\n",
            "Epoch 2/30\n",
            "16/16 [==============================] - 2s 109ms/step - loss: 2.3176 - accuracy: 0.2116 - val_loss: 2.0158 - val_accuracy: 0.3949\n",
            "Epoch 3/30\n",
            "16/16 [==============================] - 2s 109ms/step - loss: 2.2158 - accuracy: 0.2508 - val_loss: 2.0003 - val_accuracy: 0.4206\n",
            "Epoch 4/30\n",
            "16/16 [==============================] - 2s 109ms/step - loss: 2.1336 - accuracy: 0.2807 - val_loss: 1.9476 - val_accuracy: 0.4509\n",
            "Epoch 5/30\n",
            "16/16 [==============================] - 2s 109ms/step - loss: 2.0577 - accuracy: 0.2992 - val_loss: 1.8170 - val_accuracy: 0.4276\n",
            "Epoch 6/30\n",
            "16/16 [==============================] - 2s 109ms/step - loss: 1.9594 - accuracy: 0.3202 - val_loss: 1.7663 - val_accuracy: 0.4696\n",
            "Epoch 7/30\n",
            "16/16 [==============================] - 2s 109ms/step - loss: 1.8888 - accuracy: 0.3353 - val_loss: 1.6962 - val_accuracy: 0.4720\n",
            "Epoch 8/30\n",
            "16/16 [==============================] - 2s 109ms/step - loss: 1.8194 - accuracy: 0.3639 - val_loss: 1.6601 - val_accuracy: 0.4743\n",
            "Epoch 9/30\n",
            "16/16 [==============================] - 2s 109ms/step - loss: 1.7245 - accuracy: 0.3886 - val_loss: 1.6368 - val_accuracy: 0.4813\n",
            "Epoch 10/30\n",
            "16/16 [==============================] - 2s 109ms/step - loss: 1.7087 - accuracy: 0.4001 - val_loss: 1.6078 - val_accuracy: 0.4907\n",
            "Epoch 11/30\n",
            "16/16 [==============================] - 2s 114ms/step - loss: 1.5884 - accuracy: 0.4224 - val_loss: 1.5629 - val_accuracy: 0.5000\n",
            "Epoch 12/30\n",
            "16/16 [==============================] - 2s 109ms/step - loss: 1.4980 - accuracy: 0.4593 - val_loss: 1.5743 - val_accuracy: 0.5023\n",
            "Epoch 13/30\n",
            "16/16 [==============================] - 2s 109ms/step - loss: 1.4600 - accuracy: 0.4765 - val_loss: 1.5729 - val_accuracy: 0.4977\n",
            "Epoch 14/30\n",
            "16/16 [==============================] - 2s 109ms/step - loss: 1.4010 - accuracy: 0.4884 - val_loss: 1.5372 - val_accuracy: 0.4977\n",
            "Epoch 15/30\n",
            "16/16 [==============================] - 2s 111ms/step - loss: 1.3529 - accuracy: 0.4996 - val_loss: 1.5480 - val_accuracy: 0.4883\n",
            "Epoch 16/30\n",
            "16/16 [==============================] - 2s 115ms/step - loss: 1.2929 - accuracy: 0.5240 - val_loss: 1.5476 - val_accuracy: 0.4836\n",
            "Epoch 17/30\n",
            "16/16 [==============================] - 2s 109ms/step - loss: 1.2654 - accuracy: 0.5355 - val_loss: 1.5294 - val_accuracy: 0.5000\n",
            "Epoch 18/30\n",
            "16/16 [==============================] - 2s 109ms/step - loss: 1.2180 - accuracy: 0.5552 - val_loss: 1.5418 - val_accuracy: 0.4907\n",
            "Epoch 19/30\n",
            "16/16 [==============================] - 2s 109ms/step - loss: 1.1776 - accuracy: 0.5664 - val_loss: 1.5672 - val_accuracy: 0.5023\n",
            "Epoch 20/30\n",
            "16/16 [==============================] - 2s 109ms/step - loss: 1.1456 - accuracy: 0.5906 - val_loss: 1.5721 - val_accuracy: 0.4977\n",
            "Epoch 21/30\n",
            "16/16 [==============================] - 2s 109ms/step - loss: 1.0836 - accuracy: 0.6088 - val_loss: 1.5707 - val_accuracy: 0.5117\n",
            "Epoch 22/30\n",
            "16/16 [==============================] - 2s 110ms/step - loss: 1.0542 - accuracy: 0.6171 - val_loss: 1.5614 - val_accuracy: 0.5117\n",
            "Epoch 23/30\n",
            "16/16 [==============================] - 2s 109ms/step - loss: 1.0230 - accuracy: 0.6324 - val_loss: 1.6639 - val_accuracy: 0.5047\n",
            "Epoch 24/30\n",
            "16/16 [==============================] - 2s 109ms/step - loss: 1.0075 - accuracy: 0.6306 - val_loss: 1.6075 - val_accuracy: 0.5234\n",
            "Epoch 25/30\n",
            "16/16 [==============================] - 2s 109ms/step - loss: 0.9955 - accuracy: 0.6376 - val_loss: 1.6215 - val_accuracy: 0.5257\n",
            "Epoch 26/30\n",
            "16/16 [==============================] - 2s 109ms/step - loss: 0.9541 - accuracy: 0.6579 - val_loss: 1.6139 - val_accuracy: 0.5187\n",
            "Epoch 27/30\n",
            "16/16 [==============================] - 2s 109ms/step - loss: 0.9380 - accuracy: 0.6569 - val_loss: 1.6666 - val_accuracy: 0.5210\n",
            "Epoch 28/30\n",
            "16/16 [==============================] - 2s 109ms/step - loss: 0.9333 - accuracy: 0.6675 - val_loss: 1.6701 - val_accuracy: 0.5210\n",
            "Epoch 29/30\n",
            "16/16 [==============================] - 2s 114ms/step - loss: 0.9018 - accuracy: 0.6748 - val_loss: 1.7218 - val_accuracy: 0.5234\n",
            "Epoch 30/30\n",
            "16/16 [==============================] - 2s 114ms/step - loss: 0.8839 - accuracy: 0.6764 - val_loss: 1.7056 - val_accuracy: 0.5374\n",
            "15/15 [==============================] - 0s 17ms/step - loss: 502.1244 - accuracy: 0.4421\n"
          ]
        }
      ]
    },
    {
      "cell_type": "code",
      "source": [
        "\n"
      ],
      "metadata": {
        "id": "qGsjVORXm7pn"
      },
      "execution_count": 27,
      "outputs": []
    },
    {
      "cell_type": "code",
      "execution_count": 28,
      "metadata": {
        "colab": {
          "base_uri": "https://localhost:8080/",
          "height": 526
        },
        "id": "DxqeB6VwMWBB",
        "outputId": "2257760b-c697-414f-d6f9-379e040cb02b"
      },
      "outputs": [
        {
          "output_type": "execute_result",
          "data": {
            "text/plain": [
              "<matplotlib.axes._subplots.AxesSubplot at 0x7fed74432950>"
            ]
          },
          "metadata": {},
          "execution_count": 28
        },
        {
          "output_type": "display_data",
          "data": {
            "image/png": "[encoded data removed]",
            "text/plain": [
              "<Figure size 576x432 with 2 Axes>"
            ]
          },
          "metadata": {
            "needs_background": "light"
          }
        }
      ],
      "source": [
        "# Test Prediction \n",
        "# make predictions on model \n",
        "y_test_pred_1 = model.predict(np.array(X_test))\n",
        "y_test_pred_classes_1 = np.argmax(y_test_pred_1, axis=1)\n",
        "y_test_pred_prob_1 = np.argmax(y_test, axis=1)\n",
        "\n",
        "\n",
        "# Test Accuracy \n",
        "import seaborn as sns\n",
        "from sklearn.metrics import accuracy_score, confusion_matrix\n",
        "#accuracy_score((y_test), y_test_pred_classes_1)\n",
        "cf_matrix = confusion_matrix(y_test_pred_prob_1, y_test_pred_classes_1)\n",
        "\n",
        "# Confusion matrix normalized per category true value\n",
        "cf_matrix = cf_matrix/np.sum(cf_matrix, axis=1)\n",
        "plt.figure(figsize=(8,6))\n",
        "sns.heatmap(cf_matrix, xticklabels=categories, yticklabels=categories, annot=True)"
      ]
    },
    {
      "cell_type": "code",
      "source": [
        "# Test Prediction \n",
        "# make predictions on model \n",
        "y_test_pred_2 = model.predict(np.array(X_test))\n",
        "y_test_pred_classes_2 = np.argmax(y_test_pred_2, axis=1)\n",
        "y_test_pred_prob_2 = np.argmax(y_test, axis=1)\n",
        "\n",
        "\n",
        "# Test Accuracy \n",
        "import seaborn as sns\n",
        "from sklearn.metrics import accuracy_score, confusion_matrix\n",
        "#accuracy_score((y_test), y_test_pred_classes_1)\n",
        "cf_matrix = confusion_matrix(y_test_pred_prob_2, y_test_pred_classes_2)\n",
        "\n",
        "# Confusion matrix normalized per category true value\n",
        "cf_matrix = cf_matrix/np.sum(cf_matrix, axis=1)\n",
        "plt.figure(figsize=(8,6))\n",
        "sns.heatmap(cf_matrix, xticklabels=categories, yticklabels=categories, annot=True)"
      ],
      "metadata": {
        "colab": {
          "base_uri": "https://localhost:8080/",
          "height": 526
        },
        "id": "hXEtIc6I9OSb",
        "outputId": "3408f748-0858-458c-ed8b-74f1a8d17f92"
      },
      "execution_count": 29,
      "outputs": [
        {
          "output_type": "execute_result",
          "data": {
            "text/plain": [
              "<matplotlib.axes._subplots.AxesSubplot at 0x7fed746549d0>"
            ]
          },
          "metadata": {},
          "execution_count": 29
        },
        {
          "output_type": "display_data",
          "data": {
            "image/png": "[encoded data removed]",
            "text/plain": [
              "<Figure size 576x432 with 2 Axes>"
            ]
          },
          "metadata": {
            "needs_background": "light"
          }
        }
      ]
    },
    {
      "cell_type": "code",
      "source": [
        "model.evaluate(X_test, y_test)"
      ],
      "metadata": {
        "colab": {
          "base_uri": "https://localhost:8080/"
        },
        "id": "ZVIDg0a399Gw",
        "outputId": "fa81e3c9-703a-4f1d-a3c3-cad6442d8d4f"
      },
      "execution_count": 30,
      "outputs": [
        {
          "output_type": "stream",
          "name": "stdout",
          "text": [
            "15/15 [==============================] - 0s 10ms/step - loss: 502.1244 - accuracy: 0.4421\n"
          ]
        },
        {
          "output_type": "execute_result",
          "data": {
            "text/plain": [
              "[502.1243896484375, 0.4421052634716034]"
            ]
          },
          "metadata": {},
          "execution_count": 30
        }
      ]
    },
    {
      "cell_type": "code",
      "source": [
        "#### Implement second version CNN with call back and model checkpoint\n",
        "from tensorflow.keras.callbacks import EarlyStopping  #regularization method to prevent the overfitting\n",
        "from tensorflow.keras.callbacks import ModelCheckpoint\n",
        "from tensorflow.keras.layers import Conv2D, MaxPooling2D, BatchNormalization, Activation, Input, LeakyReLU,Activation\n",
        "from tensorflow.keras.layers import Dense, Dropout, Flatten, Conv2D, MaxPool2D\n",
        "es = EarlyStopping(monitor='val_loss', mode='min', verbose=1, patience=20)\n",
        "mc = ModelCheckpoint('best_model.h5', monitor='val_accuracy', mode='max', verbose=1, save_best_only=True)\n",
        "history=model.fit(X_train_s, \n",
        "          y_train_s,  #It expects integers because of the sparse_categorical_crossentropy loss function\n",
        "          epochs=100, #number of iterations over the entire dataset to train on\n",
        "          batch_size=64,validation_split=0.20,callbacks=[es, mc],use_multiprocessing=True)#number of samples per gradient update for training\n",
        "\n",
        "print(history.history.keys())\n",
        "# summarize history for accuracy\n",
        "plt.plot(history.history['accuracy'])\n",
        "plt.plot(history.history['val_accuracy'])\n",
        "plt.title('model accuracy')\n",
        "plt.ylabel('accuracy')\n",
        "plt.xlabel('epoch')\n",
        "plt.legend(['train', 'test'], loc='upper left')\n",
        "plt.show()\n"
      ],
      "metadata": {
        "colab": {
          "base_uri": "https://localhost:8080/",
          "height": 1000
        },
        "id": "Qr2RCfZ8PeSz",
        "outputId": "6942ce17-65db-4300-dedf-3144d03be58e"
      },
      "execution_count": 31,
      "outputs": [
        {
          "output_type": "stream",
          "name": "stdout",
          "text": [
            "Epoch 1/100\n",
            "54/54 [==============================] - ETA: 0s - loss: 0.8963 - accuracy: 0.6792\n",
            "Epoch 00001: val_accuracy improved from -inf to 0.70760, saving model to best_model.h5\n",
            "54/54 [==============================] - 4s 65ms/step - loss: 0.8963 - accuracy: 0.6792 - val_loss: 1.0669 - val_accuracy: 0.7076\n",
            "Epoch 2/100\n",
            "53/54 [============================>.] - ETA: 0s - loss: 0.9664 - accuracy: 0.6725\n",
            "Epoch 00002: val_accuracy did not improve from 0.70760\n",
            "54/54 [==============================] - 2s 37ms/step - loss: 0.9687 - accuracy: 0.6711 - val_loss: 1.0893 - val_accuracy: 0.6971\n",
            "Epoch 3/100\n",
            "53/54 [============================>.] - ETA: 0s - loss: 0.9510 - accuracy: 0.6825\n",
            "Epoch 00003: val_accuracy did not improve from 0.70760\n",
            "54/54 [==============================] - 2s 37ms/step - loss: 0.9506 - accuracy: 0.6819 - val_loss: 1.0863 - val_accuracy: 0.6959\n",
            "Epoch 4/100\n",
            "53/54 [============================>.] - ETA: 0s - loss: 0.8846 - accuracy: 0.7019\n",
            "Epoch 00004: val_accuracy did not improve from 0.70760\n",
            "54/54 [==============================] - 2s 37ms/step - loss: 0.8829 - accuracy: 0.7026 - val_loss: 1.1093 - val_accuracy: 0.6959\n",
            "Epoch 5/100\n",
            "53/54 [============================>.] - ETA: 0s - loss: 0.8813 - accuracy: 0.7037\n",
            "Epoch 00005: val_accuracy did not improve from 0.70760\n",
            "54/54 [==============================] - 2s 37ms/step - loss: 0.8809 - accuracy: 0.7035 - val_loss: 1.0914 - val_accuracy: 0.7029\n",
            "Epoch 6/100\n",
            "53/54 [============================>.] - ETA: 0s - loss: 0.8325 - accuracy: 0.7129\n",
            "Epoch 00006: val_accuracy improved from 0.70760 to 0.71813, saving model to best_model.h5\n",
            "54/54 [==============================] - 3s 58ms/step - loss: 0.8366 - accuracy: 0.7111 - val_loss: 1.0736 - val_accuracy: 0.7181\n",
            "Epoch 7/100\n",
            "53/54 [============================>.] - ETA: 0s - loss: 0.8090 - accuracy: 0.7202\n",
            "Epoch 00007: val_accuracy did not improve from 0.71813\n",
            "54/54 [==============================] - 2s 37ms/step - loss: 0.8086 - accuracy: 0.7205 - val_loss: 1.1439 - val_accuracy: 0.7006\n",
            "Epoch 8/100\n",
            "53/54 [============================>.] - ETA: 0s - loss: 0.8044 - accuracy: 0.7208\n",
            "Epoch 00008: val_accuracy did not improve from 0.71813\n",
            "54/54 [==============================] - 2s 38ms/step - loss: 0.8035 - accuracy: 0.7211 - val_loss: 1.1152 - val_accuracy: 0.6982\n",
            "Epoch 9/100\n",
            "53/54 [============================>.] - ETA: 0s - loss: 0.7953 - accuracy: 0.7291\n",
            "Epoch 00009: val_accuracy did not improve from 0.71813\n",
            "54/54 [==============================] - 2s 37ms/step - loss: 0.7941 - accuracy: 0.7292 - val_loss: 1.1280 - val_accuracy: 0.7064\n",
            "Epoch 10/100\n",
            "53/54 [============================>.] - ETA: 0s - loss: 0.7605 - accuracy: 0.7356\n",
            "Epoch 00010: val_accuracy did not improve from 0.71813\n",
            "54/54 [==============================] - 2s 37ms/step - loss: 0.7613 - accuracy: 0.7351 - val_loss: 1.1556 - val_accuracy: 0.7053\n",
            "Epoch 11/100\n",
            "53/54 [============================>.] - ETA: 0s - loss: 0.7198 - accuracy: 0.7556\n",
            "Epoch 00011: val_accuracy did not improve from 0.71813\n",
            "54/54 [==============================] - 2s 37ms/step - loss: 0.7198 - accuracy: 0.7550 - val_loss: 1.2013 - val_accuracy: 0.6877\n",
            "Epoch 12/100\n",
            "53/54 [============================>.] - ETA: 0s - loss: 0.7576 - accuracy: 0.7518\n",
            "Epoch 00012: val_accuracy did not improve from 0.71813\n",
            "54/54 [==============================] - 2s 37ms/step - loss: 0.7549 - accuracy: 0.7529 - val_loss: 1.1567 - val_accuracy: 0.6749\n",
            "Epoch 13/100\n",
            "53/54 [============================>.] - ETA: 0s - loss: 0.7160 - accuracy: 0.7568\n",
            "Epoch 00013: val_accuracy did not improve from 0.71813\n",
            "54/54 [==============================] - 2s 37ms/step - loss: 0.7171 - accuracy: 0.7564 - val_loss: 1.1464 - val_accuracy: 0.7158\n",
            "Epoch 14/100\n",
            "53/54 [============================>.] - ETA: 0s - loss: 0.7169 - accuracy: 0.7577\n",
            "Epoch 00014: val_accuracy did not improve from 0.71813\n",
            "54/54 [==============================] - 2s 40ms/step - loss: 0.7162 - accuracy: 0.7582 - val_loss: 1.1604 - val_accuracy: 0.7029\n",
            "Epoch 15/100\n",
            "53/54 [============================>.] - ETA: 0s - loss: 0.7246 - accuracy: 0.7574\n",
            "Epoch 00015: val_accuracy did not improve from 0.71813\n",
            "54/54 [==============================] - 2s 40ms/step - loss: 0.7264 - accuracy: 0.7561 - val_loss: 1.1855 - val_accuracy: 0.6924\n",
            "Epoch 16/100\n",
            "53/54 [============================>.] - ETA: 0s - loss: 0.6747 - accuracy: 0.7668\n",
            "Epoch 00016: val_accuracy did not improve from 0.71813\n",
            "54/54 [==============================] - 2s 37ms/step - loss: 0.6727 - accuracy: 0.7670 - val_loss: 1.3174 - val_accuracy: 0.6842\n",
            "Epoch 17/100\n",
            "53/54 [============================>.] - ETA: 0s - loss: 0.6383 - accuracy: 0.7774\n",
            "Epoch 00017: val_accuracy did not improve from 0.71813\n",
            "54/54 [==============================] - 2s 38ms/step - loss: 0.6368 - accuracy: 0.7781 - val_loss: 1.3255 - val_accuracy: 0.6877\n",
            "Epoch 18/100\n",
            "53/54 [============================>.] - ETA: 0s - loss: 0.7007 - accuracy: 0.7594\n",
            "Epoch 00018: val_accuracy did not improve from 0.71813\n",
            "54/54 [==============================] - 2s 37ms/step - loss: 0.7003 - accuracy: 0.7602 - val_loss: 1.2079 - val_accuracy: 0.6947\n",
            "Epoch 19/100\n",
            "53/54 [============================>.] - ETA: 0s - loss: 0.6550 - accuracy: 0.7748\n",
            "Epoch 00019: val_accuracy did not improve from 0.71813\n",
            "54/54 [==============================] - 2s 37ms/step - loss: 0.6556 - accuracy: 0.7746 - val_loss: 1.3535 - val_accuracy: 0.6772\n",
            "Epoch 20/100\n",
            "53/54 [============================>.] - ETA: 0s - loss: 0.6597 - accuracy: 0.7807\n",
            "Epoch 00020: val_accuracy did not improve from 0.71813\n",
            "54/54 [==============================] - 2s 37ms/step - loss: 0.6578 - accuracy: 0.7810 - val_loss: 1.2821 - val_accuracy: 0.6749\n",
            "Epoch 21/100\n",
            "53/54 [============================>.] - ETA: 0s - loss: 0.6281 - accuracy: 0.7877\n",
            "Epoch 00021: val_accuracy did not improve from 0.71813\n",
            "54/54 [==============================] - 2s 37ms/step - loss: 0.6282 - accuracy: 0.7871 - val_loss: 1.3249 - val_accuracy: 0.6889\n",
            "Epoch 00021: early stopping\n",
            "dict_keys(['loss', 'accuracy', 'val_loss', 'val_accuracy'])\n"
          ]
        },
        {
          "output_type": "display_data",
          "data": {
            "image/png": "[encoded data removed]",
            "text/plain": [
              "<Figure size 432x288 with 1 Axes>"
            ]
          },
          "metadata": {
            "needs_background": "light"
          }
        }
      ]
    },
    {
      "cell_type": "code",
      "source": [
        "#### Implement second version CNN with call back and model checkpoint\n",
        "from tensorflow.keras.callbacks import EarlyStopping  #regularization method to prevent the overfitting\n",
        "from tensorflow.keras.callbacks import ModelCheckpoint\n",
        "from tensorflow.keras.layers import Conv2D, MaxPooling2D, BatchNormalization, Activation, Input, LeakyReLU,Activation\n",
        "from tensorflow.keras.layers import Dense, Dropout, Flatten, Conv2D, MaxPool2D\n",
        "\n",
        "es = EarlyStopping(monitor='val_loss', mode='min', verbose=1, patience=20)\n",
        "mc = ModelCheckpoint('best_model.h5', monitor='val_accuracy', mode='max', verbose=1, save_best_only=True)\n",
        "model = Sequential()\n",
        "#\n",
        "y_train=np.array(y_train)\n",
        "model.add(Conv2D(filters = 64, kernel_size = (5,5),padding = 'Same', \n",
        "                 activation ='relu', input_shape = (128,128,1)))\n",
        "model.add(BatchNormalization())\n",
        "model.add(MaxPool2D(pool_size=(2,2)))\n",
        "model.add(Dropout(0.25))\n",
        "#\n",
        "model.add(Conv2D(filters = 128, kernel_size = (3,3),padding = 'Same', \n",
        "                 activation ='relu'))\n",
        "#model.add(BatchNormalization())\n",
        "model.add(MaxPool2D(pool_size=(2,2), strides=(2,2)))\n",
        "model.add(Dropout(0.25))\n",
        "#\n",
        "model.add(Conv2D(filters = 128, kernel_size = (3,3),padding = 'Same', \n",
        "                 activation ='relu'))\n",
        "#model.add(BatchNormalization())\n",
        "model.add(MaxPool2D(pool_size=(2,2), strides=(2,2)))\n",
        "model.add(Dropout(0.3))\n",
        "#\n",
        "model.add(Conv2D(filters = 128, kernel_size = (2,2),padding = 'Same', \n",
        "                 activation ='relu'))\n",
        "#model.add(BatchNormalization())\n",
        "model.add(MaxPool2D(pool_size=(2,2), strides=(2,2)))\n",
        "model.add(Dropout(0.3))\n",
        "\n",
        "#\n",
        "model.add(Conv2D(filters = 256, kernel_size = (2,2),padding = 'Same', \n",
        "                 activation ='relu'))\n",
        "#model.add(BatchNormalization())\n",
        "model.add(MaxPool2D(pool_size=(2,2), strides=(2,2)))\n",
        "model.add(Dropout(0.3))\n",
        "\n",
        "# \n",
        "model.add(Flatten())\n",
        "model.add(Dense(1024, activation = \"relu\"))\n",
        "model.add(Dropout(0.5))\n",
        "model.add(Dense(12, activation = \"softmax\"))\n",
        "optimizer = Adam(lr=0.0005, beta_1=0.9, beta_2=0.999)\n",
        "model.compile(optimizer = optimizer , loss = \"categorical_crossentropy\", metrics=[\"accuracy\"])\n",
        "epochs = 200  \n",
        "batch_size = 64\n",
        "\n",
        "\n",
        "\n",
        "es = EarlyStopping(monitor='val_loss', mode='min', verbose=1, patience=5)\n",
        "mc = ModelCheckpoint('best_model.h5', monitor='val_accuracy', mode='max', verbose=1, save_best_only=True)\n",
        "\n",
        "history=model.fit((X_train_s), \n",
        "          (y_train_s),  #It expects integers because of the sparse_categorical_crossentropy loss function\n",
        "          epochs=30, #number of iterations over the entire dataset to train on\n",
        "          batch_size=64,validation_split=0.20,callbacks=[es, mc],use_multiprocessing=True)#number of samples per gradient update for training\n",
        "\n",
        "print(history.history.keys())\n",
        "# summarize history for accuracy\n",
        "plt.plot(history.history['accuracy'])\n",
        "plt.plot(history.history['val_accuracy'])\n",
        "plt.title('model accuracy')\n",
        "plt.ylabel('accuracy')\n",
        "plt.xlabel('epoch')\n",
        "plt.legend(['train', 'test'], loc='upper left')\n",
        "plt.show()\n"
      ],
      "metadata": {
        "colab": {
          "base_uri": "https://localhost:8080/",
          "height": 1000
        },
        "id": "bRamf6yooceg",
        "outputId": "a1238b9e-239b-47dc-9c10-d4dac1744001"
      },
      "execution_count": 32,
      "outputs": [
        {
          "output_type": "stream",
          "name": "stdout",
          "text": [
            "Epoch 1/30\n",
            "54/54 [==============================] - ETA: 0s - loss: 2.3745 - accuracy: 0.1950\n",
            "Epoch 00001: val_accuracy improved from -inf to 0.21988, saving model to best_model.h5\n",
            "54/54 [==============================] - 4s 60ms/step - loss: 2.3745 - accuracy: 0.1950 - val_loss: 2.4554 - val_accuracy: 0.2199\n",
            "Epoch 2/30\n",
            "53/54 [============================>.] - ETA: 0s - loss: 1.8133 - accuracy: 0.3614\n",
            "Epoch 00002: val_accuracy did not improve from 0.21988\n",
            "54/54 [==============================] - 3s 48ms/step - loss: 1.8136 - accuracy: 0.3614 - val_loss: 2.4318 - val_accuracy: 0.2035\n",
            "Epoch 3/30\n",
            "54/54 [==============================] - ETA: 0s - loss: 1.6486 - accuracy: 0.4199\n",
            "Epoch 00003: val_accuracy improved from 0.21988 to 0.27368, saving model to best_model.h5\n",
            "54/54 [==============================] - 3s 51ms/step - loss: 1.6486 - accuracy: 0.4199 - val_loss: 2.3832 - val_accuracy: 0.2737\n",
            "Epoch 4/30\n",
            "53/54 [============================>.] - ETA: 0s - loss: 1.5748 - accuracy: 0.4396\n",
            "Epoch 00004: val_accuracy did not improve from 0.27368\n",
            "54/54 [==============================] - 3s 48ms/step - loss: 1.5744 - accuracy: 0.4398 - val_loss: 2.3430 - val_accuracy: 0.2690\n",
            "Epoch 5/30\n",
            "53/54 [============================>.] - ETA: 0s - loss: 1.4738 - accuracy: 0.4735\n",
            "Epoch 00005: val_accuracy improved from 0.27368 to 0.48304, saving model to best_model.h5\n",
            "54/54 [==============================] - 3s 51ms/step - loss: 1.4718 - accuracy: 0.4743 - val_loss: 2.2533 - val_accuracy: 0.4830\n",
            "Epoch 6/30\n",
            "53/54 [============================>.] - ETA: 0s - loss: 1.3686 - accuracy: 0.5038\n",
            "Epoch 00006: val_accuracy did not improve from 0.48304\n",
            "54/54 [==============================] - 3s 48ms/step - loss: 1.3693 - accuracy: 0.5038 - val_loss: 2.1763 - val_accuracy: 0.3602\n",
            "Epoch 7/30\n",
            "53/54 [============================>.] - ETA: 0s - loss: 1.3066 - accuracy: 0.5292\n",
            "Epoch 00007: val_accuracy improved from 0.48304 to 0.55789, saving model to best_model.h5\n",
            "54/54 [==============================] - 3s 51ms/step - loss: 1.3109 - accuracy: 0.5281 - val_loss: 2.0136 - val_accuracy: 0.5579\n",
            "Epoch 8/30\n",
            "53/54 [============================>.] - ETA: 0s - loss: 1.1920 - accuracy: 0.5775\n",
            "Epoch 00008: val_accuracy did not improve from 0.55789\n",
            "54/54 [==============================] - 3s 48ms/step - loss: 1.1918 - accuracy: 0.5775 - val_loss: 1.9827 - val_accuracy: 0.3731\n",
            "Epoch 9/30\n",
            "53/54 [============================>.] - ETA: 0s - loss: 1.0917 - accuracy: 0.6026\n",
            "Epoch 00009: val_accuracy improved from 0.55789 to 0.67368, saving model to best_model.h5\n",
            "54/54 [==============================] - 3s 51ms/step - loss: 1.0937 - accuracy: 0.6012 - val_loss: 1.5206 - val_accuracy: 0.6737\n",
            "Epoch 10/30\n",
            "53/54 [============================>.] - ETA: 0s - loss: 0.9667 - accuracy: 0.6648\n",
            "Epoch 00010: val_accuracy improved from 0.67368 to 0.68304, saving model to best_model.h5\n",
            "54/54 [==============================] - 3s 51ms/step - loss: 0.9657 - accuracy: 0.6646 - val_loss: 1.3539 - val_accuracy: 0.6830\n",
            "Epoch 11/30\n",
            "53/54 [============================>.] - ETA: 0s - loss: 0.8733 - accuracy: 0.6804\n",
            "Epoch 00011: val_accuracy did not improve from 0.68304\n",
            "54/54 [==============================] - 3s 48ms/step - loss: 0.8748 - accuracy: 0.6804 - val_loss: 1.2372 - val_accuracy: 0.6667\n",
            "Epoch 12/30\n",
            "53/54 [============================>.] - ETA: 0s - loss: 0.8128 - accuracy: 0.7019\n",
            "Epoch 00012: val_accuracy improved from 0.68304 to 0.70409, saving model to best_model.h5\n",
            "54/54 [==============================] - 3s 51ms/step - loss: 0.8136 - accuracy: 0.7018 - val_loss: 1.1100 - val_accuracy: 0.7041\n",
            "Epoch 13/30\n",
            "53/54 [============================>.] - ETA: 0s - loss: 0.7617 - accuracy: 0.7267\n",
            "Epoch 00013: val_accuracy did not improve from 0.70409\n",
            "54/54 [==============================] - 3s 48ms/step - loss: 0.7612 - accuracy: 0.7266 - val_loss: 0.9622 - val_accuracy: 0.6994\n",
            "Epoch 14/30\n",
            "53/54 [============================>.] - ETA: 0s - loss: 0.6958 - accuracy: 0.7459\n",
            "Epoch 00014: val_accuracy improved from 0.70409 to 0.73801, saving model to best_model.h5\n",
            "54/54 [==============================] - 3s 50ms/step - loss: 0.6941 - accuracy: 0.7465 - val_loss: 0.8782 - val_accuracy: 0.7380\n",
            "Epoch 15/30\n",
            "53/54 [============================>.] - ETA: 0s - loss: 0.6398 - accuracy: 0.7674\n",
            "Epoch 00015: val_accuracy did not improve from 0.73801\n",
            "54/54 [==============================] - 3s 48ms/step - loss: 0.6407 - accuracy: 0.7670 - val_loss: 0.7708 - val_accuracy: 0.7333\n",
            "Epoch 16/30\n",
            "53/54 [============================>.] - ETA: 0s - loss: 0.5788 - accuracy: 0.7874\n",
            "Epoch 00016: val_accuracy improved from 0.73801 to 0.75556, saving model to best_model.h5\n",
            "54/54 [==============================] - 3s 50ms/step - loss: 0.5792 - accuracy: 0.7874 - val_loss: 0.7549 - val_accuracy: 0.7556\n",
            "Epoch 17/30\n",
            "53/54 [============================>.] - ETA: 0s - loss: 0.5378 - accuracy: 0.8025\n",
            "Epoch 00017: val_accuracy did not improve from 0.75556\n",
            "54/54 [==============================] - 3s 48ms/step - loss: 0.5373 - accuracy: 0.8023 - val_loss: 0.7121 - val_accuracy: 0.7497\n",
            "Epoch 18/30\n",
            "53/54 [============================>.] - ETA: 0s - loss: 0.5350 - accuracy: 0.8075\n",
            "Epoch 00018: val_accuracy improved from 0.75556 to 0.75906, saving model to best_model.h5\n",
            "54/54 [==============================] - 3s 50ms/step - loss: 0.5338 - accuracy: 0.8082 - val_loss: 0.7170 - val_accuracy: 0.7591\n",
            "Epoch 19/30\n",
            "53/54 [============================>.] - ETA: 0s - loss: 0.4681 - accuracy: 0.8272\n",
            "Epoch 00019: val_accuracy did not improve from 0.75906\n",
            "54/54 [==============================] - 3s 50ms/step - loss: 0.4673 - accuracy: 0.8272 - val_loss: 0.6928 - val_accuracy: 0.7544\n",
            "Epoch 20/30\n",
            "53/54 [============================>.] - ETA: 0s - loss: 0.4415 - accuracy: 0.8440\n",
            "Epoch 00020: val_accuracy did not improve from 0.75906\n",
            "54/54 [==============================] - 3s 48ms/step - loss: 0.4421 - accuracy: 0.8444 - val_loss: 0.6905 - val_accuracy: 0.7556\n",
            "Epoch 21/30\n",
            "54/54 [==============================] - ETA: 0s - loss: 0.4383 - accuracy: 0.8383\n",
            "Epoch 00021: val_accuracy improved from 0.75906 to 0.76140, saving model to best_model.h5\n",
            "54/54 [==============================] - 3s 53ms/step - loss: 0.4383 - accuracy: 0.8383 - val_loss: 0.7708 - val_accuracy: 0.7614\n",
            "Epoch 22/30\n",
            "53/54 [============================>.] - ETA: 0s - loss: 0.3953 - accuracy: 0.8526\n",
            "Epoch 00022: val_accuracy did not improve from 0.76140\n",
            "54/54 [==============================] - 3s 48ms/step - loss: 0.3978 - accuracy: 0.8523 - val_loss: 0.8769 - val_accuracy: 0.7146\n",
            "Epoch 23/30\n",
            "53/54 [============================>.] - ETA: 0s - loss: 0.3982 - accuracy: 0.8488\n",
            "Epoch 00023: val_accuracy did not improve from 0.76140\n",
            "54/54 [==============================] - 3s 48ms/step - loss: 0.3977 - accuracy: 0.8482 - val_loss: 0.7577 - val_accuracy: 0.7520\n",
            "Epoch 24/30\n",
            "53/54 [============================>.] - ETA: 0s - loss: 0.3139 - accuracy: 0.8894\n",
            "Epoch 00024: val_accuracy did not improve from 0.76140\n",
            "54/54 [==============================] - 3s 48ms/step - loss: 0.3163 - accuracy: 0.8889 - val_loss: 0.7019 - val_accuracy: 0.7591\n",
            "Epoch 25/30\n",
            "53/54 [============================>.] - ETA: 0s - loss: 0.3168 - accuracy: 0.8812\n",
            "Epoch 00025: val_accuracy did not improve from 0.76140\n",
            "54/54 [==============================] - 3s 48ms/step - loss: 0.3165 - accuracy: 0.8816 - val_loss: 0.7159 - val_accuracy: 0.7602\n",
            "Epoch 00025: early stopping\n",
            "dict_keys(['loss', 'accuracy', 'val_loss', 'val_accuracy'])\n"
          ]
        },
        {
          "output_type": "display_data",
          "data": {
            "image/png": "[encoded data removed]",
            "text/plain": [
              "<Figure size 432x288 with 1 Axes>"
            ]
          },
          "metadata": {
            "needs_background": "light"
          }
        }
      ]
    },
    {
      "cell_type": "code",
      "source": [
        ""
      ],
      "metadata": {
        "id": "ytMWgdbVLhGa"
      },
      "execution_count": 32,
      "outputs": []
    },
    {
      "cell_type": "markdown",
      "source": [
        "### Run model with colored images and check output"
      ],
      "metadata": {
        "id": "SxrnNntrLiQR"
      }
    },
    {
      "cell_type": "code",
      "source": [
        ""
      ],
      "metadata": {
        "id": "-u692KKyLnAx"
      },
      "execution_count": 32,
      "outputs": []
    },
    {
      "cell_type": "markdown",
      "source": [
        ""
      ],
      "metadata": {
        "id": "TXeifjeUaqYF"
      }
    },
    {
      "cell_type": "code",
      "source": [
        "model.evaluate(X_test,y_test)"
      ],
      "metadata": {
        "colab": {
          "base_uri": "https://localhost:8080/"
        },
        "id": "lWJoxWHZ-Smb",
        "outputId": "32671aa2-3521-4997-8fdf-5dc2925f0c1c"
      },
      "execution_count": 33,
      "outputs": [
        {
          "output_type": "stream",
          "name": "stdout",
          "text": [
            "15/15 [==============================] - 0s 15ms/step - loss: 2069.3933 - accuracy: 0.1832\n"
          ]
        },
        {
          "output_type": "execute_result",
          "data": {
            "text/plain": [
              "[2069.393310546875, 0.18315789103507996]"
            ]
          },
          "metadata": {},
          "execution_count": 33
        }
      ]
    },
    {
      "cell_type": "code",
      "source": [
        "# run model with colored images instead of gray_scale \n",
        "X_train_color = cleaned_img\n"
      ],
      "metadata": {
        "id": "z94HW7cqKTj6"
      },
      "execution_count": 34,
      "outputs": []
    },
    {
      "cell_type": "code",
      "source": [
        "# Use image generator along with CNN \n",
        "from tensorflow.keras.preprocessing.image import ImageDataGenerator\n",
        "datagen = ImageDataGenerator(\n",
        "    featurewise_center=True,\n",
        "    featurewise_std_normalization=True,\n",
        "    rotation_range=20,\n",
        "    width_shift_range=0.2,\n",
        "    height_shift_range=0.2,\n",
        "    horizontal_flip=True,\n",
        "    validation_split=0.2)\n",
        "# compute quantities required for featurewise normalization\n",
        "# (std, mean, and principal components if ZCA whitening is applied)\n",
        "datagen.fit(X_train_s)\n",
        "# fits the model on batches with real-time data augmentation:\n",
        "history = model.fit(datagen.flow(X_train_s, y_train_s, batch_size=32,\n",
        "         subset='training'),\n",
        "         validation_data=datagen.flow(X_train_s, y_train_s,\n",
        "         batch_size=8, subset='validation'),\n",
        "         steps_per_epoch=len(X_train_s) / 32, epochs = 100,\n",
        "         callbacks = [es, mc], use_multiprocessing = True)\n",
        "# here's a more \"manual\" example\n",
        "#for e in range(100):\n",
        "#    print('Epoch', e)\n",
        "#    batches = 0\n",
        "#    for x_batch, y_batch in datagen.flow(X_train_s, y_train_s, batch_size=32):\n",
        "#        model.fit(x_batch, y_batch)\n",
        "#        batches += 1\n",
        "#        if batches >= len(X_train_s) / 32:\n",
        "            # we need to break the loop by hand because\n",
        "            # the generator loops indefinitely\n",
        "#            break\n",
        "#history=model.fit((X_train_s), \n",
        "#          (y_train_s),  #It expects integers because of the sparse_categorical_crossentropy loss function\n",
        "#          epochs=30, #number of iterations over the entire dataset to train on\n",
        "#          batch_size=64,validation_split=0.20,callbacks=[es, mc],use_multiprocessing=True)#number of samples per gradient update for training\n",
        "\n",
        "print(history.history.keys())\n",
        "# summarize history for accuracy\n",
        "plt.plot(history.history['accuracy'])\n",
        "plt.plot(history.history['val_accuracy'])\n",
        "plt.title('model accuracy')\n",
        "plt.ylabel('accuracy')\n",
        "plt.xlabel('epoch')\n",
        "plt.legend(['train', 'test'], loc='upper left')\n",
        "plt.show()"
      ],
      "metadata": {
        "colab": {
          "base_uri": "https://localhost:8080/",
          "height": 1000
        },
        "id": "Kf6bq8ZOxTQh",
        "outputId": "953013b3-d352-4414-87d4-5b831bd03853"
      },
      "execution_count": 35,
      "outputs": [
        {
          "output_type": "stream",
          "name": "stdout",
          "text": [
            "Epoch 1/100\n",
            "134/133 [==============================] - ETA: 0s - loss: 2.0405 - accuracy: 0.3523\n",
            "Epoch 00001: val_accuracy did not improve from 0.76140\n",
            "133/133 [==============================] - 10s 67ms/step - loss: 2.0405 - accuracy: 0.3523 - val_loss: 2.0729 - val_accuracy: 0.2620\n",
            "Epoch 2/100\n",
            "134/133 [==============================] - ETA: 0s - loss: 1.5414 - accuracy: 0.4603\n",
            "Epoch 00002: val_accuracy did not improve from 0.76140\n",
            "133/133 [==============================] - 9s 67ms/step - loss: 1.5414 - accuracy: 0.4603 - val_loss: 1.3348 - val_accuracy: 0.5123\n",
            "Epoch 3/100\n",
            "133/133 [============================>.] - ETA: 0s - loss: 1.4264 - accuracy: 0.4925\n",
            "Epoch 00003: val_accuracy did not improve from 0.76140\n",
            "133/133 [==============================] - 10s 73ms/step - loss: 1.4247 - accuracy: 0.4930 - val_loss: 1.3903 - val_accuracy: 0.5310\n",
            "Epoch 4/100\n",
            "133/133 [============================>.] - ETA: 0s - loss: 1.3355 - accuracy: 0.5231\n",
            "Epoch 00004: val_accuracy did not improve from 0.76140\n",
            "133/133 [==============================] - 9s 67ms/step - loss: 1.3351 - accuracy: 0.5229 - val_loss: 1.2269 - val_accuracy: 0.6105\n",
            "Epoch 5/100\n",
            "134/133 [==============================] - ETA: 0s - loss: 1.2396 - accuracy: 0.5610\n",
            "Epoch 00005: val_accuracy did not improve from 0.76140\n",
            "133/133 [==============================] - 9s 66ms/step - loss: 1.2396 - accuracy: 0.5610 - val_loss: 1.0589 - val_accuracy: 0.6363\n",
            "Epoch 6/100\n",
            "134/133 [==============================] - ETA: 0s - loss: 1.1861 - accuracy: 0.5775\n",
            "Epoch 00006: val_accuracy did not improve from 0.76140\n",
            "133/133 [==============================] - 10s 73ms/step - loss: 1.1861 - accuracy: 0.5775 - val_loss: 1.1209 - val_accuracy: 0.6316\n",
            "Epoch 7/100\n",
            "134/133 [==============================] - ETA: 0s - loss: 1.1338 - accuracy: 0.5893\n",
            "Epoch 00007: val_accuracy did not improve from 0.76140\n",
            "133/133 [==============================] - 9s 67ms/step - loss: 1.1338 - accuracy: 0.5893 - val_loss: 1.1170 - val_accuracy: 0.6561\n",
            "Epoch 8/100\n",
            "134/133 [==============================] - ETA: 0s - loss: 1.1325 - accuracy: 0.5997\n",
            "Epoch 00008: val_accuracy did not improve from 0.76140\n",
            "133/133 [==============================] - 9s 66ms/step - loss: 1.1325 - accuracy: 0.5997 - val_loss: 0.9681 - val_accuracy: 0.6725\n",
            "Epoch 9/100\n",
            "134/133 [==============================] - ETA: 0s - loss: 1.0862 - accuracy: 0.6169\n",
            "Epoch 00009: val_accuracy did not improve from 0.76140\n",
            "133/133 [==============================] - 9s 67ms/step - loss: 1.0862 - accuracy: 0.6169 - val_loss: 0.9421 - val_accuracy: 0.6690\n",
            "Epoch 10/100\n",
            "134/133 [==============================] - ETA: 0s - loss: 1.0445 - accuracy: 0.6286\n",
            "Epoch 00010: val_accuracy did not improve from 0.76140\n",
            "133/133 [==============================] - 9s 67ms/step - loss: 1.0445 - accuracy: 0.6286 - val_loss: 0.9655 - val_accuracy: 0.6503\n",
            "Epoch 11/100\n",
            "134/133 [==============================] - ETA: 0s - loss: 1.0479 - accuracy: 0.6130\n",
            "Epoch 00011: val_accuracy did not improve from 0.76140\n",
            "133/133 [==============================] - 9s 69ms/step - loss: 1.0479 - accuracy: 0.6130 - val_loss: 0.8693 - val_accuracy: 0.6912\n",
            "Epoch 12/100\n",
            "134/133 [==============================] - ETA: 0s - loss: 1.0064 - accuracy: 0.6419\n",
            "Epoch 00012: val_accuracy did not improve from 0.76140\n",
            "133/133 [==============================] - 9s 69ms/step - loss: 1.0064 - accuracy: 0.6419 - val_loss: 0.8879 - val_accuracy: 0.7123\n",
            "Epoch 13/100\n",
            "134/133 [==============================] - ETA: 0s - loss: 1.0010 - accuracy: 0.6374\n",
            "Epoch 00013: val_accuracy did not improve from 0.76140\n",
            "133/133 [==============================] - 9s 68ms/step - loss: 1.0010 - accuracy: 0.6374 - val_loss: 0.8486 - val_accuracy: 0.7181\n",
            "Epoch 14/100\n",
            "134/133 [==============================] - ETA: 0s - loss: 0.9819 - accuracy: 0.6520\n",
            "Epoch 00014: val_accuracy did not improve from 0.76140\n",
            "133/133 [==============================] - 9s 67ms/step - loss: 0.9819 - accuracy: 0.6520 - val_loss: 0.8998 - val_accuracy: 0.7099\n",
            "Epoch 15/100\n",
            "133/133 [============================>.] - ETA: 0s - loss: 0.9576 - accuracy: 0.6583\n",
            "Epoch 00015: val_accuracy did not improve from 0.76140\n",
            "133/133 [==============================] - 9s 66ms/step - loss: 0.9569 - accuracy: 0.6585 - val_loss: 0.9211 - val_accuracy: 0.7298\n",
            "Epoch 16/100\n",
            "134/133 [==============================] - ETA: 0s - loss: 0.8941 - accuracy: 0.6772\n",
            "Epoch 00016: val_accuracy did not improve from 0.76140\n",
            "133/133 [==============================] - 9s 67ms/step - loss: 0.8941 - accuracy: 0.6772 - val_loss: 0.7114 - val_accuracy: 0.7462\n",
            "Epoch 17/100\n",
            "134/133 [==============================] - ETA: 0s - loss: 0.9291 - accuracy: 0.6621\n",
            "Epoch 00017: val_accuracy did not improve from 0.76140\n",
            "133/133 [==============================] - 9s 67ms/step - loss: 0.9291 - accuracy: 0.6621 - val_loss: 0.7048 - val_accuracy: 0.7532\n",
            "Epoch 18/100\n",
            "134/133 [==============================] - ETA: 0s - loss: 0.8675 - accuracy: 0.6954\n",
            "Epoch 00018: val_accuracy did not improve from 0.76140\n",
            "133/133 [==============================] - 9s 67ms/step - loss: 0.8675 - accuracy: 0.6954 - val_loss: 0.7914 - val_accuracy: 0.7310\n",
            "Epoch 19/100\n",
            "134/133 [==============================] - ETA: 0s - loss: 0.8756 - accuracy: 0.6872\n",
            "Epoch 00019: val_accuracy did not improve from 0.76140\n",
            "133/133 [==============================] - 9s 67ms/step - loss: 0.8756 - accuracy: 0.6872 - val_loss: 0.6978 - val_accuracy: 0.7544\n",
            "Epoch 20/100\n",
            "134/133 [==============================] - ETA: 0s - loss: 0.8526 - accuracy: 0.6902\n",
            "Epoch 00020: val_accuracy improved from 0.76140 to 0.78596, saving model to best_model.h5\n",
            "133/133 [==============================] - 9s 67ms/step - loss: 0.8526 - accuracy: 0.6902 - val_loss: 0.6724 - val_accuracy: 0.7860\n",
            "Epoch 21/100\n",
            "134/133 [==============================] - ETA: 0s - loss: 0.8297 - accuracy: 0.6961\n",
            "Epoch 00021: val_accuracy did not improve from 0.78596\n",
            "133/133 [==============================] - 9s 68ms/step - loss: 0.8297 - accuracy: 0.6961 - val_loss: 0.7118 - val_accuracy: 0.7509\n",
            "Epoch 22/100\n",
            "134/133 [==============================] - ETA: 0s - loss: 0.8221 - accuracy: 0.7021\n",
            "Epoch 00022: val_accuracy improved from 0.78596 to 0.79181, saving model to best_model.h5\n",
            "133/133 [==============================] - 9s 68ms/step - loss: 0.8221 - accuracy: 0.7021 - val_loss: 0.6531 - val_accuracy: 0.7918\n",
            "Epoch 23/100\n",
            "134/133 [==============================] - ETA: 0s - loss: 0.8283 - accuracy: 0.7033\n",
            "Epoch 00023: val_accuracy did not improve from 0.79181\n",
            "133/133 [==============================] - 9s 67ms/step - loss: 0.8283 - accuracy: 0.7033 - val_loss: 0.6805 - val_accuracy: 0.7626\n",
            "Epoch 24/100\n",
            "134/133 [==============================] - ETA: 0s - loss: 0.8115 - accuracy: 0.7103\n",
            "Epoch 00024: val_accuracy did not improve from 0.79181\n",
            "133/133 [==============================] - 9s 66ms/step - loss: 0.8115 - accuracy: 0.7103 - val_loss: 0.6054 - val_accuracy: 0.7871\n",
            "Epoch 25/100\n",
            "134/133 [==============================] - ETA: 0s - loss: 0.8194 - accuracy: 0.7086\n",
            "Epoch 00025: val_accuracy did not improve from 0.79181\n",
            "133/133 [==============================] - 9s 67ms/step - loss: 0.8194 - accuracy: 0.7086 - val_loss: 0.7790 - val_accuracy: 0.7684\n",
            "Epoch 26/100\n",
            "134/133 [==============================] - ETA: 0s - loss: 0.7776 - accuracy: 0.7194\n",
            "Epoch 00026: val_accuracy improved from 0.79181 to 0.79883, saving model to best_model.h5\n",
            "133/133 [==============================] - 9s 68ms/step - loss: 0.7776 - accuracy: 0.7194 - val_loss: 0.6292 - val_accuracy: 0.7988\n",
            "Epoch 27/100\n",
            "134/133 [==============================] - ETA: 0s - loss: 0.7907 - accuracy: 0.7113\n",
            "Epoch 00027: val_accuracy did not improve from 0.79883\n",
            "133/133 [==============================] - 9s 68ms/step - loss: 0.7907 - accuracy: 0.7113 - val_loss: 0.6379 - val_accuracy: 0.7789\n",
            "Epoch 28/100\n",
            "134/133 [==============================] - ETA: 0s - loss: 0.7470 - accuracy: 0.7245\n",
            "Epoch 00028: val_accuracy did not improve from 0.79883\n",
            "133/133 [==============================] - 9s 68ms/step - loss: 0.7470 - accuracy: 0.7245 - val_loss: 0.6183 - val_accuracy: 0.7906\n",
            "Epoch 29/100\n",
            "134/133 [==============================] - ETA: 0s - loss: 0.7264 - accuracy: 0.7430\n",
            "Epoch 00029: val_accuracy did not improve from 0.79883\n",
            "133/133 [==============================] - 9s 67ms/step - loss: 0.7264 - accuracy: 0.7430 - val_loss: 0.6018 - val_accuracy: 0.7836\n",
            "Epoch 30/100\n",
            "134/133 [==============================] - ETA: 0s - loss: 0.7376 - accuracy: 0.7341\n",
            "Epoch 00030: val_accuracy did not improve from 0.79883\n",
            "133/133 [==============================] - 9s 68ms/step - loss: 0.7376 - accuracy: 0.7341 - val_loss: 0.7711 - val_accuracy: 0.7275\n",
            "Epoch 31/100\n",
            "134/133 [==============================] - ETA: 0s - loss: 0.7488 - accuracy: 0.7322\n",
            "Epoch 00031: val_accuracy did not improve from 0.79883\n",
            "133/133 [==============================] - 9s 67ms/step - loss: 0.7488 - accuracy: 0.7322 - val_loss: 0.6511 - val_accuracy: 0.7556\n",
            "Epoch 32/100\n",
            "134/133 [==============================] - ETA: 0s - loss: 0.7508 - accuracy: 0.7325\n",
            "Epoch 00032: val_accuracy improved from 0.79883 to 0.81170, saving model to best_model.h5\n",
            "133/133 [==============================] - 9s 70ms/step - loss: 0.7508 - accuracy: 0.7325 - val_loss: 0.5795 - val_accuracy: 0.8117\n",
            "Epoch 33/100\n",
            "134/133 [==============================] - ETA: 0s - loss: 0.7173 - accuracy: 0.7411\n",
            "Epoch 00033: val_accuracy did not improve from 0.81170\n",
            "133/133 [==============================] - 9s 67ms/step - loss: 0.7173 - accuracy: 0.7411 - val_loss: 0.6392 - val_accuracy: 0.7965\n",
            "Epoch 34/100\n",
            "134/133 [==============================] - ETA: 0s - loss: 0.6986 - accuracy: 0.7519\n",
            "Epoch 00034: val_accuracy did not improve from 0.81170\n",
            "133/133 [==============================] - 9s 67ms/step - loss: 0.6986 - accuracy: 0.7519 - val_loss: 0.6411 - val_accuracy: 0.7673\n",
            "Epoch 35/100\n",
            "134/133 [==============================] - ETA: 0s - loss: 0.7035 - accuracy: 0.7458\n",
            "Epoch 00035: val_accuracy did not improve from 0.81170\n",
            "133/133 [==============================] - 9s 67ms/step - loss: 0.7035 - accuracy: 0.7458 - val_loss: 0.5898 - val_accuracy: 0.7871\n",
            "Epoch 36/100\n",
            "134/133 [==============================] - ETA: 0s - loss: 0.6718 - accuracy: 0.7551\n",
            "Epoch 00036: val_accuracy did not improve from 0.81170\n",
            "133/133 [==============================] - 9s 69ms/step - loss: 0.6718 - accuracy: 0.7551 - val_loss: 0.7274 - val_accuracy: 0.7520\n",
            "Epoch 37/100\n",
            "134/133 [==============================] - ETA: 0s - loss: 0.6855 - accuracy: 0.7593\n",
            "Epoch 00037: val_accuracy did not improve from 0.81170\n",
            "133/133 [==============================] - 9s 67ms/step - loss: 0.6855 - accuracy: 0.7593 - val_loss: 0.5978 - val_accuracy: 0.7813\n",
            "Epoch 00037: early stopping\n",
            "dict_keys(['loss', 'accuracy', 'val_loss', 'val_accuracy'])\n"
          ]
        },
        {
          "output_type": "display_data",
          "data": {
            "image/png": "[encoded data removed]",
            "text/plain": [
              "<Figure size 432x288 with 1 Axes>"
            ]
          },
          "metadata": {
            "needs_background": "light"
          }
        }
      ]
    },
    {
      "cell_type": "code",
      "source": [
        "# run model with color images instead of grayscale\n",
        "# Normalize data for X_train array by dividing by 255, which is max value for a pixel.\n",
        "IMG_SIZE =128\n",
        "X_train_color = cleaned_img\n",
        "X_train_s_color, X_test, y_train_s, y_test = train_test_split(X_train_color, y_train, test_size=0.1, random_state = 1, stratify = y_train)\n",
        "X_train_s_color = (X_train_s_color).reshape(-1,IMG_SIZE,IMG_SIZE,3)\n",
        "X_train_s_color = (X_train_s_color)/255.0\n",
        "#X_test = X_test.reshape(-1,IMG_SIZE,IMG_SIZE,1)"
      ],
      "metadata": {
        "id": "lwzb3vS6Kwxk"
      },
      "execution_count": 37,
      "outputs": []
    },
    {
      "cell_type": "code",
      "source": [
        ""
      ],
      "metadata": {
        "id": "0wbgzlz6MLY2"
      },
      "execution_count": 37,
      "outputs": []
    },
    {
      "cell_type": "markdown",
      "source": [
        "### Use colored x_train array to fit with model"
      ],
      "metadata": {
        "id": "kpjAiVmAMMYg"
      }
    },
    {
      "cell_type": "code",
      "source": [
        "es = EarlyStopping(monitor='val_loss', mode='min', verbose=1, patience=20)\n",
        "mc = ModelCheckpoint('best_model.h5', monitor='val_accuracy', mode='max', verbose=1, save_best_only=True)\n",
        "model = Sequential()\n",
        "#\n",
        "\n",
        "model.add(Conv2D(filters = 64, kernel_size = (3,3),padding = 'Same', \n",
        "                 activation ='relu', input_shape = (128,128,3)))\n",
        "model.add(BatchNormalization())\n",
        "model.add(MaxPool2D(pool_size=(2,2)))\n",
        "model.add(Dropout(0.25))\n",
        "#\n",
        "model.add(Conv2D(filters = 128, kernel_size = (3,3),padding = 'Same', \n",
        "                 activation ='relu'))\n",
        "model.add(BatchNormalization())\n",
        "model.add(MaxPool2D(pool_size=(2,2), strides=(2,2)))\n",
        "model.add(Dropout(0.25))\n",
        "#\n",
        "model.add(Conv2D(filters = 128, kernel_size = (3,3),padding = 'Same', \n",
        "                 activation ='relu'))\n",
        "#model.add(BatchNormalization())\n",
        "model.add(MaxPool2D(pool_size=(2,2), strides=(2,2)))\n",
        "model.add(Dropout(0.3))\n",
        "#\n",
        "model.add(Conv2D(filters = 128, kernel_size = (2,2),padding = 'Same', \n",
        "                 activation ='relu'))\n",
        "#model.add(BatchNormalization())\n",
        "model.add(MaxPool2D(pool_size=(2,2), strides=(2,2)))\n",
        "model.add(Dropout(0.3))\n",
        "\n",
        "#\n",
        "model.add(Conv2D(filters = 256, kernel_size = (2,2),padding = 'Same', \n",
        "                 activation ='relu'))\n",
        "#model.add(BatchNormalization())\n",
        "model.add(MaxPool2D(pool_size=(2,2), strides=(2,2)))\n",
        "model.add(Dropout(0.3))\n",
        "\n",
        "# \n",
        "model.add(Flatten())\n",
        "model.add(Dense(1024, activation = \"relu\"))\n",
        "model.add(Dropout(0.5))\n",
        "model.add(Dense(12, activation = \"softmax\"))\n",
        "optimizer = Adam(lr=0.0001, beta_1=0.9, beta_2=0.999)\n",
        "model.compile(optimizer = optimizer , loss = \"categorical_crossentropy\", metrics=[\"accuracy\"])\n",
        "epochs = 200  \n",
        "batch_size = 64\n",
        "\n",
        "\n",
        "\n",
        "es = EarlyStopping(monitor='val_loss', mode='min', verbose=1, patience=5)\n",
        "mc = ModelCheckpoint('best_model.h5', monitor='val_accuracy', mode='max', verbose=1, save_best_only=True)\n",
        "\n",
        "history=model.fit((X_train_s_color), \n",
        "          (y_train_s),  #It expects integers because of the sparse_categorical_crossentropy loss function\n",
        "          epochs=30, #number of iterations over the entire dataset to train on\n",
        "          batch_size=64,validation_split=0.20,callbacks=[es, mc],use_multiprocessing=True)#number of samples per gradient update for training\n",
        "\n",
        "print(history.history.keys())\n",
        "# summarize history for accuracy\n",
        "plt.plot(history.history['accuracy'])\n",
        "plt.plot(history.history['val_accuracy'])\n",
        "plt.title('model accuracy')\n",
        "plt.ylabel('accuracy')\n",
        "plt.xlabel('epoch')\n",
        "plt.legend(['train', 'test'], loc='upper left')\n",
        "plt.show()"
      ],
      "metadata": {
        "colab": {
          "base_uri": "https://localhost:8080/"
        },
        "id": "a2nDRjpBMFVd",
        "outputId": "68cdfe95-4e05-440a-d31f-c4caf5962e2e"
      },
      "execution_count": null,
      "outputs": [
        {
          "output_type": "stream",
          "name": "stdout",
          "text": [
            "Epoch 1/30\n",
            "53/54 [============================>.] - ETA: 0s - loss: 3.7509 - accuracy: 0.1135\n",
            "Epoch 00001: val_accuracy improved from -inf to 0.11111, saving model to best_model.h5\n",
            "54/54 [==============================] - 5s 65ms/step - loss: 3.7396 - accuracy: 0.1146 - val_loss: 2.4794 - val_accuracy: 0.1111\n",
            "Epoch 2/30\n",
            "54/54 [==============================] - ETA: 0s - loss: 2.3318 - accuracy: 0.2105\n",
            "Epoch 00002: val_accuracy did not improve from 0.11111\n",
            "54/54 [==============================] - 3s 53ms/step - loss: 2.3318 - accuracy: 0.2105 - val_loss: 2.4704 - val_accuracy: 0.1018\n",
            "Epoch 3/30\n",
            "54/54 [==============================] - ETA: 0s - loss: 2.0828 - accuracy: 0.2909\n",
            "Epoch 00003: val_accuracy did not improve from 0.11111\n",
            "54/54 [==============================] - 3s 53ms/step - loss: 2.0828 - accuracy: 0.2909 - val_loss: 2.4541 - val_accuracy: 0.1018\n",
            "Epoch 4/30\n",
            "53/54 [============================>.] - ETA: 0s - loss: 1.8956 - accuracy: 0.3426\n",
            "Epoch 00004: val_accuracy did not improve from 0.11111\n",
            "54/54 [==============================] - 3s 53ms/step - loss: 1.8968 - accuracy: 0.3427 - val_loss: 2.4424 - val_accuracy: 0.1029\n",
            "Epoch 5/30\n",
            "53/54 [============================>.] - ETA: 0s - loss: 1.7625 - accuracy: 0.3809\n",
            "Epoch 00005: val_accuracy improved from 0.11111 to 0.14152, saving model to best_model.h5\n",
            "54/54 [==============================] - 3s 56ms/step - loss: 1.7607 - accuracy: 0.3822 - val_loss: 2.4258 - val_accuracy: 0.1415\n",
            "Epoch 6/30\n",
            "53/54 [============================>.] - ETA: 0s - loss: 1.5775 - accuracy: 0.4537\n",
            "Epoch 00006: val_accuracy did not improve from 0.14152\n",
            "54/54 [==============================] - 3s 53ms/step - loss: 1.5769 - accuracy: 0.4532 - val_loss: 2.4158 - val_accuracy: 0.1263\n",
            "Epoch 7/30\n",
            "53/54 [============================>.] - ETA: 0s - loss: 1.4614 - accuracy: 0.4894\n",
            "Epoch 00007: val_accuracy did not improve from 0.14152\n",
            "54/54 [==============================] - 3s 53ms/step - loss: 1.4594 - accuracy: 0.4901 - val_loss: 2.3598 - val_accuracy: 0.1076\n",
            "Epoch 8/30\n",
            "53/54 [============================>.] - ETA: 0s - loss: 1.3692 - accuracy: 0.5224\n",
            "Epoch 00008: val_accuracy did not improve from 0.14152\n",
            "54/54 [==============================] - 3s 53ms/step - loss: 1.3685 - accuracy: 0.5228 - val_loss: 2.2963 - val_accuracy: 0.1041\n",
            "Epoch 9/30\n",
            "53/54 [============================>.] - ETA: 0s - loss: 1.2774 - accuracy: 0.5495\n",
            "Epoch 00009: val_accuracy did not improve from 0.14152\n",
            "54/54 [==============================] - 3s 53ms/step - loss: 1.2764 - accuracy: 0.5497 - val_loss: 2.2005 - val_accuracy: 0.1240\n",
            "Epoch 10/30\n",
            "53/54 [============================>.] - ETA: 0s - loss: 1.2137 - accuracy: 0.5846\n",
            "Epoch 00010: val_accuracy improved from 0.14152 to 0.23860, saving model to best_model.h5\n",
            "54/54 [==============================] - 3s 56ms/step - loss: 1.2112 - accuracy: 0.5851 - val_loss: 2.0231 - val_accuracy: 0.2386\n",
            "Epoch 11/30\n",
            "54/54 [==============================] - ETA: 0s - loss: 1.1683 - accuracy: 0.5971\n",
            "Epoch 00011: val_accuracy improved from 0.23860 to 0.38129, saving model to best_model.h5\n",
            "54/54 [==============================] - 3s 58ms/step - loss: 1.1683 - accuracy: 0.5971 - val_loss: 1.7861 - val_accuracy: 0.3813\n",
            "Epoch 12/30\n",
            "53/54 [============================>.] - ETA: 0s - loss: 1.1275 - accuracy: 0.6117\n",
            "Epoch 00012: val_accuracy improved from 0.38129 to 0.47953, saving model to best_model.h5\n",
            "54/54 [==============================] - 3s 56ms/step - loss: 1.1253 - accuracy: 0.6129 - val_loss: 1.6209 - val_accuracy: 0.4795\n",
            "Epoch 13/30\n",
            "53/54 [============================>.] - ETA: 0s - loss: 1.0854 - accuracy: 0.6341\n",
            "Epoch 00013: val_accuracy improved from 0.47953 to 0.60351, saving model to best_model.h5\n",
            "54/54 [==============================] - 3s 56ms/step - loss: 1.0830 - accuracy: 0.6348 - val_loss: 1.4059 - val_accuracy: 0.6035\n",
            "Epoch 14/30\n",
            "53/54 [============================>.] - ETA: 0s - loss: 1.0626 - accuracy: 0.6274\n",
            "Epoch 00014: val_accuracy improved from 0.60351 to 0.67251, saving model to best_model.h5\n",
            "54/54 [==============================] - 3s 56ms/step - loss: 1.0623 - accuracy: 0.6272 - val_loss: 1.2874 - val_accuracy: 0.6725\n",
            "Epoch 15/30\n",
            "53/54 [============================>.] - ETA: 0s - loss: 0.9828 - accuracy: 0.6663\n",
            "Epoch 00015: val_accuracy improved from 0.67251 to 0.69708, saving model to best_model.h5\n",
            "54/54 [==============================] - 3s 56ms/step - loss: 0.9800 - accuracy: 0.6675 - val_loss: 1.1363 - val_accuracy: 0.6971\n",
            "Epoch 16/30\n",
            "53/54 [============================>.] - ETA: 0s - loss: 0.9945 - accuracy: 0.6554\n",
            "Epoch 00016: val_accuracy improved from 0.69708 to 0.70877, saving model to best_model.h5\n",
            "54/54 [==============================] - 3s 56ms/step - loss: 0.9929 - accuracy: 0.6561 - val_loss: 1.1113 - val_accuracy: 0.7088\n",
            "Epoch 17/30\n",
            "54/54 [==============================] - ETA: 0s - loss: 0.9196 - accuracy: 0.6842\n",
            "Epoch 00017: val_accuracy did not improve from 0.70877\n",
            "54/54 [==============================] - 3s 55ms/step - loss: 0.9196 - accuracy: 0.6842 - val_loss: 1.1071 - val_accuracy: 0.6959\n",
            "Epoch 18/30\n",
            "54/54 [==============================] - ETA: 0s - loss: 0.9237 - accuracy: 0.6892\n",
            "Epoch 00018: val_accuracy did not improve from 0.70877\n",
            "54/54 [==============================] - 3s 54ms/step - loss: 0.9237 - accuracy: 0.6892 - val_loss: 1.0637 - val_accuracy: 0.7018\n",
            "Epoch 19/30\n",
            "53/54 [============================>.] - ETA: 0s - loss: 0.8688 - accuracy: 0.6993\n",
            "Epoch 00019: val_accuracy improved from 0.70877 to 0.71696, saving model to best_model.h5\n",
            "54/54 [==============================] - 3s 56ms/step - loss: 0.8665 - accuracy: 0.6997 - val_loss: 0.9786 - val_accuracy: 0.7170\n",
            "Epoch 20/30\n",
            "53/54 [============================>.] - ETA: 0s - loss: 0.8361 - accuracy: 0.7114\n",
            "Epoch 00020: val_accuracy improved from 0.71696 to 0.75556, saving model to best_model.h5\n",
            "54/54 [==============================] - 3s 56ms/step - loss: 0.8357 - accuracy: 0.7114 - val_loss: 0.9294 - val_accuracy: 0.7556\n",
            "Epoch 21/30\n",
            "53/54 [============================>.] - ETA: 0s - loss: 0.8253 - accuracy: 0.7249\n",
            "Epoch 00021: val_accuracy did not improve from 0.75556\n",
            "54/54 [==============================] - 3s 53ms/step - loss: 0.8243 - accuracy: 0.7251 - val_loss: 0.9662 - val_accuracy: 0.7158\n",
            "Epoch 22/30\n",
            "53/54 [============================>.] - ETA: 0s - loss: 0.7544 - accuracy: 0.7435\n",
            "Epoch 00022: val_accuracy improved from 0.75556 to 0.77076, saving model to best_model.h5\n",
            "54/54 [==============================] - 3s 57ms/step - loss: 0.7579 - accuracy: 0.7430 - val_loss: 0.8485 - val_accuracy: 0.7708\n",
            "Epoch 23/30\n",
            "53/54 [============================>.] - ETA: 0s - loss: 0.7565 - accuracy: 0.7320\n",
            "Epoch 00023: val_accuracy did not improve from 0.77076\n",
            "54/54 [==============================] - 3s 53ms/step - loss: 0.7569 - accuracy: 0.7313 - val_loss: 0.9176 - val_accuracy: 0.7439\n",
            "Epoch 24/30\n",
            "53/54 [============================>.] - ETA: 0s - loss: 0.7437 - accuracy: 0.7473\n",
            "Epoch 00024: val_accuracy did not improve from 0.77076\n",
            "54/54 [==============================] - 3s 54ms/step - loss: 0.7428 - accuracy: 0.7480 - val_loss: 0.8599 - val_accuracy: 0.7626\n",
            "Epoch 25/30\n",
            "53/54 [============================>.] - ETA: 0s - loss: 0.7070 - accuracy: 0.7494\n",
            "Epoch 00025: val_accuracy did not improve from 0.77076\n",
            "54/54 [==============================] - 3s 55ms/step - loss: 0.7058 - accuracy: 0.7497 - val_loss: 0.8061 - val_accuracy: 0.7591\n",
            "Epoch 26/30\n",
            "53/54 [============================>.] - ETA: 0s - loss: 0.6625 - accuracy: 0.7712\n",
            "Epoch 00026: val_accuracy did not improve from 0.77076\n",
            "54/54 [==============================] - 3s 53ms/step - loss: 0.6630 - accuracy: 0.7708 - val_loss: 0.7878 - val_accuracy: 0.7661\n",
            "Epoch 27/30\n",
            "53/54 [============================>.] - ETA: 0s - loss: 0.6580 - accuracy: 0.7609\n",
            "Epoch 00027: val_accuracy improved from 0.77076 to 0.79181, saving model to best_model.h5\n",
            "54/54 [==============================] - 3s 56ms/step - loss: 0.6579 - accuracy: 0.7614 - val_loss: 0.7685 - val_accuracy: 0.7918\n",
            "Epoch 28/30\n",
            "53/54 [============================>.] - ETA: 0s - loss: 0.6482 - accuracy: 0.7706\n",
            "Epoch 00028: val_accuracy did not improve from 0.79181\n",
            "54/54 [==============================] - 3s 53ms/step - loss: 0.6476 - accuracy: 0.7708 - val_loss: 0.8219 - val_accuracy: 0.7520\n",
            "Epoch 29/30\n",
            "54/54 [==============================] - ETA: 0s - loss: 0.6289 - accuracy: 0.7883\n",
            "Epoch 00029: val_accuracy did not improve from 0.79181\n",
            "54/54 [==============================] - 3s 53ms/step - loss: 0.6289 - accuracy: 0.7883 - val_loss: 0.7548 - val_accuracy: 0.7778\n",
            "Epoch 30/30\n",
            "53/54 [============================>.] - ETA: 0s - loss: 0.6008 - accuracy: 0.7907\n",
            "Epoch 00030: val_accuracy did not improve from 0.79181\n",
            "54/54 [==============================] - 3s 54ms/step - loss: 0.5990 - accuracy: 0.7918 - val_loss: 0.7929 - val_accuracy: 0.7474\n"
          ]
        }
      ]
    },
    {
      "cell_type": "code",
      "source": [
        "### add gaussian blurring to images and check for model improvement\n",
        "\n",
        "from scipy.ndimage.filters import gaussian_filter\n",
        "\n",
        "#blurred = gaussian_filter(image_data_gray[0],  sigma=0.7)\n",
        "#blurred_img = []\n",
        "#IMG_SIZE = 128\n",
        "X_train_gauss = gaussian_filter(np.array(X_train),sigma = .7)\n",
        "#new_array = cv2.resize(np.array(X_train),(IMG_SIZE,IMG_SIZE)) \n",
        "#for cat in categories:  \n",
        "#  for img in X_train:\n",
        "#    new_array = gaussian_filter(np.array(img).reshape(-1,IMG_SIZE,IMG_SIZE,1),sigma=.7)\n",
        "#    blurred_img.append([new_array])"
      ],
      "metadata": {
        "id": "UtYzQKUDx9Bj"
      },
      "execution_count": null,
      "outputs": []
    },
    {
      "cell_type": "code",
      "source": [
        ""
      ],
      "metadata": {
        "id": "uAefVsVf8m1C"
      },
      "execution_count": null,
      "outputs": []
    },
    {
      "cell_type": "code",
      "source": [
        "X_train_gauss.shape"
      ],
      "metadata": {
        "id": "mEtMLjOR9orB"
      },
      "execution_count": null,
      "outputs": []
    },
    {
      "cell_type": "code",
      "source": [
        "# verify if images was turned into grayscale and blurred\n",
        "\n",
        "plt.imshow(X_train_gauss[3], cmap='Greys_r')\n",
        "#plt.title(labels[1])\n",
        "plt.axis('off')\n",
        "plt.show()"
      ],
      "metadata": {
        "id": "H0iHJkoV9JAb"
      },
      "execution_count": null,
      "outputs": []
    },
    {
      "cell_type": "code",
      "source": [
        "# split data for the 2nd time with blurred array\n",
        "\n"
      ],
      "metadata": {
        "id": "Qf3f-r2ZLC6u"
      },
      "execution_count": null,
      "outputs": []
    },
    {
      "cell_type": "code",
      "source": [
        "from tensorflow.keras.preprocessing.image import ImageDataGenerator\n",
        "datagen = ImageDataGenerator(\n",
        "    featurewise_center=True,\n",
        "    featurewise_std_normalization=True,\n",
        "    rotation_range=20,\n",
        "    width_shift_range=0.2,\n",
        "    height_shift_range=0.2,\n",
        "    horizontal_flip=True,\n",
        "    validation_split=0.2)\n",
        "# compute quantities required for featurewise normalization\n",
        "# (std, mean, and principal components if ZCA whitening is applied)\n",
        "datagen.fit(X_train_gauss)\n",
        "# fits the model on batches with real-time data augmentation:\n",
        "model.fit(datagen.flow(X_train_gauss, y_train, batch_size=32,\n",
        "         subset='training'),\n",
        "         validation_data=datagen.flow(X_train_gauss, y_train,\n",
        "         batch_size=8, subset='validation'),\n",
        "         steps_per_epoch=len(X_train) / 32, epochs = 100,\n",
        "         callbacks = [es, mc], use_multiprocessing = True)"
      ],
      "metadata": {
        "id": "SjE55n2kKkoV"
      },
      "execution_count": null,
      "outputs": []
    },
    {
      "cell_type": "code",
      "source": [
        "type(X_test)"
      ],
      "metadata": {
        "id": "mwXM8q--Wee5"
      },
      "execution_count": null,
      "outputs": []
    },
    {
      "cell_type": "code",
      "source": [
        "# Test Prediction \n",
        "y_test_pred_ln3 = model.predict(X_test)\n",
        "y_test_pred_classes_ln3 = np.argmax(y_test_pred_ln3, axis=1)\n",
        "y_test_pred_prob_ln3 = np.max(y_test_pred_ln3, axis=1)\n",
        "cf_matrix = confusion_matrix(np.array(y_test), y_test_pred_classes_ln3)\n",
        "\n",
        "# Confusion matrix normalized per category true value\n",
        "cf_matrix_n1 = cf_matrix/np.sum(cf_matrix, axis=1)\n",
        "plt.figure(figsize=(8,6))\n",
        "sns.heatmap(cf_matrix_n1, xticklabels=CATEGORIES, yticklabels=CATEGORIES, annot=True)"
      ],
      "metadata": {
        "id": "LLDRzKnOWQ6P"
      },
      "execution_count": null,
      "outputs": []
    },
    {
      "cell_type": "markdown",
      "source": [
        "### Shape of the data\n",
        "- The data has 10k rows and 14 columns"
      ],
      "metadata": {
        "id": "rB7PlPxHev_A"
      }
    },
    {
      "cell_type": "code",
      "metadata": {
        "id": "rWi_r2aZvL4d"
      },
      "source": [
        "data.info()"
      ],
      "execution_count": null,
      "outputs": []
    },
    {
      "cell_type": "code",
      "source": [
        "images.shape"
      ],
      "metadata": {
        "id": "anRY8GpWJbVc"
      },
      "execution_count": null,
      "outputs": []
    },
    {
      "cell_type": "code",
      "metadata": {
        "id": "fCwm0J6ZwV5Z"
      },
      "source": [
        "data.describe().T"
      ],
      "execution_count": null,
      "outputs": []
    },
    {
      "cell_type": "code",
      "source": [
        ""
      ],
      "metadata": {
        "id": "AL5QlhhngICq"
      },
      "execution_count": null,
      "outputs": []
    },
    {
      "cell_type": "markdown",
      "source": [
        "### Insights \n",
        "\n",
        "- Balance has a slight disparity from mean and median values\n",
        "- HAsCrCard has a slight disparity from the mean and median values"
      ],
      "metadata": {
        "id": "4YCdATVvgJl8"
      }
    },
    {
      "cell_type": "code",
      "source": [
        "# check for sum of null values\n",
        "\n",
        "data.isna().sum()"
      ],
      "metadata": {
        "id": "c692Ov-gfYHD"
      },
      "execution_count": null,
      "outputs": []
    },
    {
      "cell_type": "code",
      "source": [
        "# define cat_ cols and numerical columns for EDA \n"
      ],
      "metadata": {
        "id": "qWyq7YgEfhix"
      },
      "execution_count": null,
      "outputs": []
    },
    {
      "cell_type": "code",
      "metadata": {
        "id": "TUkdiIn6zCJ5"
      },
      "source": [
        "# drop the  Sl_no and customer key column as this will add no value to the cluster analysis\n",
        "#data = data.drop([\"Sl_No\",\"Customer Key\"], axis = 1)\n",
        "#data.describe()"
      ],
      "execution_count": null,
      "outputs": []
    },
    {
      "cell_type": "markdown",
      "source": [
        ""
      ],
      "metadata": {
        "id": "GfxH22Ri9stA"
      }
    },
    {
      "cell_type": "code",
      "source": [
        "# insights for the descriptive stats: Avg Credit card and total visits online appear to have outliers\n",
        "#  - This is due to the fact that the median and mean values are quite different. In credit limit there's \n",
        "# a diff. of approx 18,000 and with total visits_online there is a smaller differnece.  "
      ],
      "metadata": {
        "id": "PBsfeSAs9uGi"
      },
      "execution_count": null,
      "outputs": []
    },
    {
      "cell_type": "code",
      "source": [
        "# check for class imbalances \n",
        "\n",
        "data[\"Exited\"].value_counts()"
      ],
      "metadata": {
        "id": "vUxBXI6OEXdl"
      },
      "execution_count": null,
      "outputs": []
    },
    {
      "cell_type": "markdown",
      "source": [
        "### 5) - Bivariate Analyis\n",
        "- pairplot\n",
        "- correlation"
      ],
      "metadata": {
        "id": "t-A93HYlEsRe"
      }
    },
    {
      "cell_type": "markdown",
      "source": [
        ""
      ],
      "metadata": {
        "id": "f5nmpMuqEmCN"
      }
    },
    {
      "cell_type": "markdown",
      "metadata": {
        "id": "5YVCOZ3E0Kx8"
      },
      "source": [
        ""
      ]
    },
    {
      "cell_type": "code",
      "metadata": {
        "id": "2DSG-SHTwbSf"
      },
      "source": [
        "sns.pairplot(data,diag_kind = 'kde', hue = \"Exited\")"
      ],
      "execution_count": null,
      "outputs": []
    },
    {
      "cell_type": "code",
      "source": [
        "# correlation for continous variables\n",
        "cat_list = [\"NumOfProducts\",\"HasCrCard\",\"IsActiveMember\",\"Tenure\"]\n",
        "num_col = data.columns.drop(cat_list)\n",
        "num_col"
      ],
      "metadata": {
        "id": "QbzQDFyk-po4"
      },
      "execution_count": null,
      "outputs": []
    },
    {
      "cell_type": "code",
      "source": [
        "def make_corr_matrix(corr_matrix):\n",
        "\n",
        "    fig, ax = plt.subplots(figsize= (15,10))\n",
        "    ax = sns.heatmap(corr_matrix, \n",
        "                    annot = True,\n",
        "                    linewidths=0.5,\n",
        "                    fmt= \".2f\",\n",
        "                    cmap= \"YlGnBu\");\n",
        "    bottom, top = ax.get_ylim()\n",
        "    ax.set_ylim(bottom + .5, top - 0.5)\n",
        "    plt.show()"
      ],
      "metadata": {
        "id": "nO2DhOHTOfaf"
      },
      "execution_count": null,
      "outputs": []
    },
    {
      "cell_type": "code",
      "source": [
        "tmp_data= data.copy()\n",
        "numeric_col =[  'CreditScore', \n",
        "        'Age', 'Balance', 'EstimatedSalary']"
      ],
      "metadata": {
        "id": "RYx8Hsl3jG-_"
      },
      "execution_count": null,
      "outputs": []
    },
    {
      "cell_type": "code",
      "source": [
        "corr_df = pd.DataFrame(data= tmp_data,index=tmp_data.index, columns =numeric_col)\n",
        "corr_df = corr_df.corr()"
      ],
      "metadata": {
        "id": "y9G5l2XpOiFP"
      },
      "execution_count": null,
      "outputs": []
    },
    {
      "cell_type": "code",
      "source": [
        "make_corr_matrix(corr_df)"
      ],
      "metadata": {
        "id": "EVwNhAG-Og0G"
      },
      "execution_count": null,
      "outputs": []
    },
    {
      "cell_type": "code",
      "source": [
        ""
      ],
      "metadata": {
        "id": "NRzIONRFRDAW"
      },
      "execution_count": null,
      "outputs": []
    },
    {
      "cell_type": "code",
      "source": [
        "# let's check the categorical columns \n",
        "\n",
        "cat_corr_df = pd.DataFrame(data= tmp_data,index=tmp_data.index, columns =[\"Geogrpahy\",\"Gender\",\"Tenure\",\"NumOfProducts\",\"HasCrCard\"\n",
        ",\"IsActiveMember\"])\n",
        "cat_corr_df = cat_corr_df.corr()\n",
        "make_corr_matrix(cat_corr_df)"
      ],
      "metadata": {
        "id": "x4nLvg0MQum_"
      },
      "execution_count": null,
      "outputs": []
    },
    {
      "cell_type": "markdown",
      "source": [
        ""
      ],
      "metadata": {
        "id": "bB9u60OIRCDQ"
      }
    },
    {
      "cell_type": "code",
      "source": [
        "tmp_data.columns"
      ],
      "metadata": {
        "id": "__omr6eBQ9v-"
      },
      "execution_count": null,
      "outputs": []
    },
    {
      "cell_type": "code",
      "source": [
        "# load bivariate functions\n",
        "\n",
        "# edafunctions\n",
        "def histogram_boxplot(data, feature, figsize=(15, 10), kde=False, bins=None):\n",
        "    \"\"\"\n",
        "    Boxplot and histogram combined\n",
        "\n",
        "    data: dataframe\n",
        "    feature: dataframe column\n",
        "    figsize: size of figure (default (15,10))\n",
        "    kde: whether to show the density curve (default False)\n",
        "    bins: number of bins for histogram (default None)\n",
        "    \"\"\"\n",
        "\n",
        "\n",
        "    f2, (ax_box2, ax_hist2) = plt.subplots(\n",
        "        nrows=2,  # Number of rows of the subplot grid= 2\n",
        "        sharex=True,  # x-axis will be shared among all subplots\n",
        "        gridspec_kw={\"height_ratios\": (0.25, 0.75)},\n",
        "        figsize=figsize,\n",
        "    )  # creating the 2 subplots\n",
        "    sns.boxplot(\n",
        "        data=data, x=feature, ax=ax_box2, showmeans=True, color=\"violet\"\n",
        "    )  # boxplot will be created and a star will indicate the mean value of the column\n",
        "    sns.histplot(\n",
        "        data=data, x=feature, kde=kde, ax=ax_hist2, bins=bins, palette=\"winter\"\n",
        "    ) if bins else sns.histplot(\n",
        "        data=data, x=feature, kde=kde, ax=ax_hist2\n",
        "    )  # For histogram\n",
        "    ax_hist2.axvline(\n",
        "        data[feature].mean(), color=\"green\", linestyle=\"--\"\n",
        "    )  # Add mean to the histogram\n",
        "    ax_hist2.axvline(\n",
        "        data[feature].median(), color=\"black\", linestyle=\"-\"\n",
        "    )  # Add median to the histogram\n",
        "\n",
        "\n"
      ],
      "metadata": {
        "id": "m5-oBeB9GxGC"
      },
      "execution_count": null,
      "outputs": []
    },
    {
      "cell_type": "code",
      "source": [
        "def distribution_plot_wrt_target(data, predictor, target):\n",
        "    \n",
        "    \"\"\"\n",
        "    box plot and histogram combined\n",
        "\n",
        "    data: dataframe\n",
        "    feature: dataframe column\n",
        "    target: target classification colummn\n",
        "  \n",
        "    \"\"\"\n",
        "    \n",
        "    \n",
        "    import warnings\n",
        "    warnings.filterwarnings(\"ignore\")\n",
        "    import pandas as pd\n",
        "    import numpy as np\n",
        "    import matplotlib.pyplot as plt\n",
        "    import seaborn as sns\n",
        "    sns.set(color_codes=True)  \n",
        "\n",
        "\n",
        "    fig, axs = plt.subplots(2, 2, figsize=(12, 10))\n",
        "\n",
        "    target_uniq = data[target].unique()\n",
        "\n",
        "    axs[0, 0].set_title(\"Distribution of target for target=\" + str(target_uniq[0]))\n",
        "    sns.histplot(\n",
        "        data=data[data[target] == target_uniq[0]],\n",
        "        x=predictor,\n",
        "        kde=True,\n",
        "        ax=axs[0, 0],\n",
        "        color=\"teal\",\n",
        "        stat=\"density\",\n",
        "    )\n",
        "\n",
        "    axs[0, 1].set_title(\"Distribution of target for target=\" + str(target_uniq[1]))\n",
        "    sns.histplot(\n",
        "        data=data[data[target] == target_uniq[1]],\n",
        "        x=predictor,\n",
        "        kde=True,\n",
        "        ax=axs[0, 1],\n",
        "        color=\"orange\",\n",
        "        stat=\"density\",\n",
        "    )\n",
        "\n",
        "    axs[1, 0].set_title(\"Boxplot w.r.t target\")\n",
        "    sns.boxplot(data=data, x=target, y=predictor, ax=axs[1, 0], palette=\"Blues\")\n",
        "\n",
        "    axs[1, 1].set_title(\"Boxplot (with flier removed) w.r.t target\")\n",
        "    sns.boxplot(\n",
        "        data=data,\n",
        "        x=target,\n",
        "        y=predictor,\n",
        "        ax=axs[1, 1],\n",
        "        showfliers=False,\n",
        "        palette=\"Blues\",\n",
        "    )\n",
        "\n",
        "    plt.tight_layout()\n",
        "    plt.show()\n",
        "# define column list of tmp_data "
      ],
      "metadata": {
        "id": "BXP_Luc5IZ-z"
      },
      "execution_count": null,
      "outputs": []
    },
    {
      "cell_type": "code",
      "source": [
        "num_col"
      ],
      "metadata": {
        "id": "WGx28EmHJS46"
      },
      "execution_count": null,
      "outputs": []
    },
    {
      "cell_type": "code",
      "source": [
        "numeric_col =[  'CreditScore', \n",
        "        'Age', 'Balance', 'EstimatedSalary']"
      ],
      "metadata": {
        "id": "eldsUJE5Jc-J"
      },
      "execution_count": null,
      "outputs": []
    },
    {
      "cell_type": "code",
      "source": [
        "\n",
        "\n",
        "for col in numeric_col:\n",
        "  distribution_plot_wrt_target(tmp_data,col,\"Exited\")\n",
        "       \n",
        "        "
      ],
      "metadata": {
        "id": "oBXbxqagH1vL"
      },
      "execution_count": null,
      "outputs": []
    },
    {
      "cell_type": "code",
      "source": [
        "for col in numeric_col:\n",
        "  histogram_boxplot(tmp_data, col)"
      ],
      "metadata": {
        "id": "EAsnbhEaJbux"
      },
      "execution_count": null,
      "outputs": []
    },
    {
      "cell_type": "markdown",
      "source": [
        "### Insights on pairplot.\n",
        "- "
      ],
      "metadata": {
        "id": "9t9d8vdKEDS9"
      }
    },
    {
      "cell_type": "code",
      "source": [
        ""
      ],
      "metadata": {
        "id": "EXZnlgNHERIy"
      },
      "execution_count": null,
      "outputs": []
    },
    {
      "cell_type": "markdown",
      "source": [
        "- looking at the pairplot it is easily determined that none of these variables correlate with one another. They are all independent of each other. \n"
      ],
      "metadata": {
        "id": "U0xc-G5izHR6"
      }
    },
    {
      "cell_type": "code",
      "source": [
        ""
      ],
      "metadata": {
        "id": "yOjIl_BRAYQh"
      },
      "execution_count": null,
      "outputs": []
    },
    {
      "cell_type": "markdown",
      "source": [
        "### Insights for EDA\n",
        "- Approx 96% of customers have 1-2 products from the bank\n",
        "- 70% of the customers have a card from the bank\n",
        "- The banks lowest customer group are the tenured of 10 years\n",
        "- Credit score looks normally distributed\n",
        "- The age is slightly skewed to the left for customers that have left the bank\n",
        "- The estimated salary appears to be a uniform distribution(same prob for any salary)\n",
        "- There are wuite a few customers that have a 0 balance and this doesnt depend on if the custoemr has left the bank or not. \n",
        "- no correlation with categorical values and numerical values"
      ],
      "metadata": {
        "id": "ZBo0aMBVzWgv"
      }
    },
    {
      "cell_type": "code",
      "source": [
        ""
      ],
      "metadata": {
        "id": "chXPFmuhSKJK"
      },
      "execution_count": null,
      "outputs": []
    },
    {
      "cell_type": "markdown",
      "source": [
        ""
      ],
      "metadata": {
        "id": "A_xMys1YAYvz"
      }
    },
    {
      "cell_type": "code",
      "source": [
        "# make copies of original dataset to remove and not remove outliers\n",
        "\n",
        "out_data = data.copy()\n",
        "tmp_data = data.copy()"
      ],
      "metadata": {
        "id": "uH2RNjyhcc8F"
      },
      "execution_count": null,
      "outputs": []
    },
    {
      "cell_type": "code",
      "source": [
        "# identify outliers \n",
        "# use IQR to identify outliers. calculate 1st and 2nd quartile, then identify data points that are outside\n",
        "# of the 4 * IQR range\n",
        "balance_quartiles =np.quantile(out_data['Balance'][out_data['Balance'].notnull()], [.25, .75])\n",
        "balance_quartiles_iqr = 4 * (balance_quartiles[1] - balance_quartiles[0])\n",
        "Products_quartiles =np.quantile(out_data['NumOfProducts'][out_data['NumOfProducts'].notnull()], [.25, .75])\n",
        "Products_quartiles_iqr = 4 * (Products_quartiles[1] - Products_quartiles[0])\n",
        "# define the outlier\n",
        "\n",
        "balance_outlier = out_data.loc[np.abs(out_data[\"Balance\"]-out_data[\"Balance\"].median()) > balance_quartiles_iqr, \"Balance\"]\n",
        "product_outlier = out_data.loc[np.abs(out_data[\"NumOfProducts\"]-out_data[\"NumOfProducts\"].median()) > Products_quartiles_iqr, \"NumOfProducts\"]\n",
        "len(balance_outlier)+len(product_outlier)\n"
      ],
      "metadata": {
        "id": "TPcOJ42Ntes8"
      },
      "execution_count": null,
      "outputs": []
    },
    {
      "cell_type": "markdown",
      "source": [
        "### outlier treatment \n",
        "- There are no outliers in this dataset"
      ],
      "metadata": {
        "id": "mysL5LSixoZ6"
      }
    },
    {
      "cell_type": "code",
      "source": [
        "tmp_data.shape"
      ],
      "metadata": {
        "id": "vprsk5DvxuIy"
      },
      "execution_count": null,
      "outputs": []
    },
    {
      "cell_type": "code",
      "source": [
        "#cat_list = list(tmp_data.columns)\n",
        "#cat_list.remove(\"Avg_Credit_Limit\")"
      ],
      "metadata": {
        "id": "07Gn504HcV4D"
      },
      "execution_count": null,
      "outputs": []
    },
    {
      "cell_type": "code",
      "metadata": {
        "id": "5oJuZzwX-mta"
      },
      "source": [
        "for col in cat_list:\n",
        "    \n",
        "    print(100*(data[col].isnull().sum()/len(data[col])))\n",
        "    print(data[col].name)\n",
        "    print(\"-\"*60)"
      ],
      "execution_count": null,
      "outputs": []
    },
    {
      "cell_type": "code",
      "metadata": {
        "id": "PBZ5KARiwxKo"
      },
      "source": [
        "cat_list = [\"NumOfProducts\",\"HasCrCard\",\"IsActiveMember\",\"Tenure\"]"
      ],
      "execution_count": null,
      "outputs": []
    },
    {
      "cell_type": "code",
      "metadata": {
        "id": "t6KglUmY1jym"
      },
      "source": [
        "# Preprocessing data \n",
        "# - Remove duplicate values\n",
        "\n",
        "print(\"Before dropping of duplciates, data is\",tmp_data.shape[0],\"rows\")\n",
        "tmp_data.drop_duplicates(inplace=True)\n",
        "print(\"after dropping of duplciates, data is\",tmp_data.shape[0],\"rows\")"
      ],
      "execution_count": null,
      "outputs": []
    },
    {
      "cell_type": "code",
      "source": [
        "data.duplicated().sum()"
      ],
      "metadata": {
        "id": "PgNeB9H0T3it"
      },
      "execution_count": null,
      "outputs": []
    },
    {
      "cell_type": "code",
      "source": [
        ""
      ],
      "metadata": {
        "id": "db_b6d9pUScd"
      },
      "execution_count": null,
      "outputs": []
    },
    {
      "cell_type": "code",
      "source": [
        "# get rid of useless rows which are 'RowNumber', 'CustomerId', 'Surname'"
      ],
      "metadata": {
        "id": "X0c9FlXfUD3N"
      },
      "execution_count": null,
      "outputs": []
    },
    {
      "cell_type": "code",
      "source": [
        "tmp_data.drop(['RowNumber', 'CustomerId', 'Surname'], axis = 1, inplace = True)\n"
      ],
      "metadata": {
        "id": "MW8tqvm3UWlV"
      },
      "execution_count": null,
      "outputs": []
    },
    {
      "cell_type": "code",
      "source": [
        "tmp_data.head(5)"
      ],
      "metadata": {
        "id": "Tfr4kSCKUxuN"
      },
      "execution_count": null,
      "outputs": []
    },
    {
      "cell_type": "code",
      "source": [
        "data[\"Gender\"].value_counts()"
      ],
      "metadata": {
        "id": "sYEok5uUXKMU"
      },
      "execution_count": null,
      "outputs": []
    },
    {
      "cell_type": "code",
      "source": [
        "data[\"Exited\"].value_counts()"
      ],
      "metadata": {
        "id": "6dcLUAeFuMlN"
      },
      "execution_count": null,
      "outputs": []
    },
    {
      "cell_type": "code",
      "source": [
        "# insights there is a class imbalance so weights will need to be applied to the model to account for the class imbalance"
      ],
      "metadata": {
        "id": "8KeMHZrauRiF"
      },
      "execution_count": null,
      "outputs": []
    },
    {
      "cell_type": "code",
      "source": [
        "data[\"Geography\"].value_counts(0)"
      ],
      "metadata": {
        "id": "YRVHTAx0XqUM"
      },
      "execution_count": null,
      "outputs": []
    },
    {
      "cell_type": "code",
      "source": [
        "data_copy = data.copy()"
      ],
      "metadata": {
        "id": "34OPkI09Ymmb"
      },
      "execution_count": null,
      "outputs": []
    },
    {
      "cell_type": "code",
      "source": [
        "data_copy.drop(columns = [\"RowNumber\",\"CustomerId\", \"Surname\"], axis = 1, inplace = True)\n",
        "data_copy.head()"
      ],
      "metadata": {
        "id": "k_ATq-x5Z6N6"
      },
      "execution_count": null,
      "outputs": []
    },
    {
      "cell_type": "code",
      "metadata": {
        "id": "KBITrR242SW-"
      },
      "source": [
        "### 3) Univariate analysis"
      ],
      "execution_count": null,
      "outputs": []
    },
    {
      "cell_type": "code",
      "source": [
        ""
      ],
      "metadata": {
        "id": "owfdFmBqU2il"
      },
      "execution_count": null,
      "outputs": []
    },
    {
      "cell_type": "code",
      "metadata": {
        "id": "g0TIvWas2kO2"
      },
      "source": [
        "def labeled_barplot(data, feature, perc=False, n=None):\n",
        "    \"\"\"\n",
        "    Barplot with percentage at the top\n",
        "\n",
        "    data: dataframe\n",
        "    feature: dataframe column\n",
        "    perc: whether to display percentages instead of count (default is False)\n",
        "    n: displays the top n category levels (default is None, i.e., display all levels)\n",
        "    \"\"\"\n",
        "    import warnings\n",
        "    warnings.filterwarnings(\"ignore\")\n",
        "    import pandas as pd\n",
        "    import numpy as np\n",
        "    import matplotlib.pyplot as plt\n",
        "    import seaborn as sns\n",
        "    sns.set(color_codes=True)  \n",
        "\n",
        "\n",
        "    total = len(data[feature])  # length of the column\n",
        "    count = data[feature].nunique()\n",
        "    if n is None:\n",
        "        plt.figure(figsize=(count + 2, 6))\n",
        "    else:\n",
        "        plt.figure(figsize=(n + 2, 6))\n",
        "\n",
        "    plt.xticks(rotation=90, fontsize=15)\n",
        "    ax = sns.countplot(\n",
        "        data=data,\n",
        "        x=feature,\n",
        "        palette=\"PuBu\",\n",
        "        order=data[feature].value_counts(ascending=True).index[:n],\n",
        "        hue = None\n",
        "    )\n",
        "\n",
        "    for p in ax.patches:\n",
        "        if perc == True:\n",
        "            label = \"{:.1f}%\".format(\n",
        "                100 * p.get_height() / total\n",
        "            )  # percentage of each class of the category\n",
        "        else:\n",
        "            label = p.get_height()  # count of each level of the category\n",
        "\n",
        "        x = p.get_x() + p.get_width() / 2  # width of the plot\n",
        "        y = p.get_height()  # height of the plot\n",
        "\n",
        "        ax.annotate(\n",
        "            label,\n",
        "            (x, y),\n",
        "            ha=\"center\",\n",
        "            va=\"center\",\n",
        "            size=12,\n",
        "            xytext=(0, 5),\n",
        "            textcoords=\"offset points\",\n",
        "        )  # annotate the percentage\n",
        "\n",
        "    plt.show()  # show the plot"
      ],
      "execution_count": null,
      "outputs": []
    },
    {
      "cell_type": "code",
      "metadata": {
        "id": "QVKAoBiW2l5-"
      },
      "source": [
        "for feature in cat_list:\n",
        "  if feature == \"Total_visits_bank\":\n",
        "    print(\"#\"*50)\n",
        "    print(\"1 and 2 visits attribute to the most of the bank visits\")\n",
        "    print(\"#\"*50)\n",
        "  elif feature == \"Total_Credit_Cards\":\n",
        "    print(\"#\"*50)\n",
        "    print(\"Customers with the 4,6,7 atttribute to the majority of the total credit cards\", \n",
        "    \"within the customers\")\n",
        "    print(\"#\"*50)\n",
        "  elif feature == \"Total_visits_online\":\n",
        "    print(\"#\"*50)\n",
        "    print(\"0-2 visits online attribute to the majority of the online traffic\", \n",
        "    \"The customers don't really like going on the web\")\n",
        "    print(\"#\"*50)\n",
        "  elif feature == \"Total_calls_made\":\n",
        "    print(\"#\"*50)\n",
        "    print(\"approx 70% of the customers fall within 0-4 calls made\")\n",
        "    print(\"#\"*50)\n",
        "  labeled_barplot(tmp_data, feature, perc=True)\n",
        "  \n"
      ],
      "execution_count": null,
      "outputs": []
    },
    {
      "cell_type": "code",
      "metadata": {
        "id": "aKq--u4623uW"
      },
      "source": [
        "### Define function for stacked barplots\n",
        "\n",
        "def stacked_barplot(data, predictor, target):\n",
        "    \"\"\"\n",
        "    Print the category counts and plot a stacked bar chart\n",
        "\n",
        "    data: dataframe\n",
        "    predictor: independent variable\n",
        "    target: target variable\n",
        "    \"\"\"\n",
        "    count = data[predictor].nunique()\n",
        "    sorter = data[target].value_counts().index[-1]\n",
        "    tab1 = pd.crosstab(data[predictor], data[target], margins=True).sort_values(\n",
        "        by=sorter, ascending=False\n",
        "    )\n",
        "    print(tab1)\n",
        "    print(\"-\" * 120)\n",
        "    tab = pd.crosstab(data[predictor], data[target], normalize=\"index\").sort_values(\n",
        "        by=sorter, ascending=False\n",
        "    )\n",
        "    tab.plot(kind=\"bar\", stacked=True, figsize=(count + 1, 5))\n",
        "    plt.legend(\n",
        "        loc=\"lower left\",\n",
        "        frameon=False,\n",
        "    \n",
        "    )\n",
        "    \n",
        "    plt.legend(loc=\"upper left\", bbox_to_anchor=(1, 1))\n",
        "    plt.show()"
      ],
      "execution_count": null,
      "outputs": []
    },
    {
      "cell_type": "code",
      "metadata": {
        "id": "b4VNKXZC3IcV"
      },
      "source": [
        "for feature in cat_list:\n",
        "  stacked_barplot(tmp_data, feature,\"NumOfProducts\")"
      ],
      "execution_count": null,
      "outputs": []
    },
    {
      "cell_type": "code",
      "metadata": {
        "id": "4Ws1tZx44j6Q"
      },
      "source": [
        "for feature in cat_list:\n",
        "  stacked_barplot(tmp_data, feature,\"HasCrCard\")"
      ],
      "execution_count": null,
      "outputs": []
    },
    {
      "cell_type": "code",
      "metadata": {
        "id": "aU8zgZOj5YVx"
      },
      "source": [
        "for feature in cat_list:\n",
        "  stacked_barplot(tmp_data, feature,\"IsActiveMember\")"
      ],
      "execution_count": null,
      "outputs": []
    },
    {
      "cell_type": "code",
      "source": [
        "for feature in cat_list:\n",
        "  stacked_barplot(tmp_data, feature,\"Tenure\")"
      ],
      "metadata": {
        "id": "FIeiexZEmwmf"
      },
      "execution_count": null,
      "outputs": []
    },
    {
      "cell_type": "code",
      "source": [
        "# Encode categorical variaBLES WITH  get dummies\n",
        "\n",
        "\n",
        "#tmp_data = pd.get_dummies(tmp_data,drop_first=True)\n",
        "data_copy = data_copy # wdataset needs to be float to convert to tensors later\n",
        "data_copy.head(5)"
      ],
      "metadata": {
        "id": "xwlESkv5U7ds"
      },
      "execution_count": null,
      "outputs": []
    },
    {
      "cell_type": "code",
      "source": [
        ""
      ],
      "metadata": {
        "id": "B7JVXC7Oa987"
      },
      "execution_count": null,
      "outputs": []
    },
    {
      "cell_type": "code",
      "source": [
        ""
      ],
      "metadata": {
        "id": "db8aVcepz-C0"
      },
      "execution_count": null,
      "outputs": []
    },
    {
      "cell_type": "code",
      "source": [
        "data.head()"
      ],
      "metadata": {
        "id": "NsQQZuhw1hJt"
      },
      "execution_count": null,
      "outputs": []
    },
    {
      "cell_type": "code",
      "source": [
        "data1 = data.copy()\n",
        "\n",
        "\n",
        "\n"
      ],
      "metadata": {
        "id": "tOIL40YRbTQT"
      },
      "execution_count": null,
      "outputs": []
    },
    {
      "cell_type": "markdown",
      "source": [
        "### 7) Build ANN mode for classification\n",
        "\n",
        "- Define feature matrices x and y \n",
        "- Define train, test and val \n",
        "- scale data using scaler to standardize all data \n",
        "- Convert data into numpy vectors using .reshape\n",
        "- Instantiate model\n",
        "- Add input layer\n",
        "- add hidden layers \n",
        "- add output layers"
      ],
      "metadata": {
        "id": "V07knCVebz7c"
      }
    },
    {
      "cell_type": "code",
      "source": [
        "data.head()"
      ],
      "metadata": {
        "id": "fldHc2Ga3zCl"
      },
      "execution_count": null,
      "outputs": []
    },
    {
      "cell_type": "code",
      "source": [
        "data.dtypes"
      ],
      "metadata": {
        "id": "2v7r74Or5hw0"
      },
      "execution_count": null,
      "outputs": []
    },
    {
      "cell_type": "code",
      "source": [
        "data.info()"
      ],
      "metadata": {
        "id": "GYru0fZX5bc2"
      },
      "execution_count": null,
      "outputs": []
    },
    {
      "cell_type": "code",
      "source": [
        "copy_df = data.copy()"
      ],
      "metadata": {
        "id": "tQgLXLIq6rhc"
      },
      "execution_count": null,
      "outputs": []
    },
    {
      "cell_type": "code",
      "source": [
        "data1 = pd.DataFrame(data = copy_df, columns= data.columns, index = data.index)\n",
        "data1.head()"
      ],
      "metadata": {
        "id": "FQqaWo1b3p7s"
      },
      "execution_count": null,
      "outputs": []
    },
    {
      "cell_type": "code",
      "source": [
        "# make copy of data\n",
        "df_copy= data.copy()\n",
        "# drop unneeded columns\n",
        "df_copy.drop(columns=[\"RowNumber\",\"CustomerId\",\"Surname\"], axis =1, inplace = True)\n",
        "df_copy = pd.get_dummies(df_copy)"
      ],
      "metadata": {
        "id": "_7wYnqHO4v9R"
      },
      "execution_count": null,
      "outputs": []
    },
    {
      "cell_type": "code",
      "source": [
        "df_copy.head(5)"
      ],
      "metadata": {
        "id": "71eK1tGn5hqH"
      },
      "execution_count": null,
      "outputs": []
    },
    {
      "cell_type": "code",
      "source": [
        "# define feature matrices X and y \n",
        "\n",
        "X = df_copy.drop(columns=\"Exited\")\n",
        "Y = df_copy['Exited']\n",
        "\n",
        "# splitting the data into train, test and val\n",
        "\n",
        "#Splitting the training and test set\n",
        "X_train, X_test, y_train, y_test = train_test_split(X, Y, test_size=0.30, random_state=1)\n",
        "#Splitting the train set into  dev set and training set\n",
        "#X_train, X_val, y_train, y_val = train_test_split(X_train, y_train, test_size=0.20, random_state=1)"
      ],
      "metadata": {
        "id": "FJitEB3fc1xS"
      },
      "execution_count": null,
      "outputs": []
    },
    {
      "cell_type": "code",
      "source": [
        ""
      ],
      "metadata": {
        "id": "YrnRLUHf7SHa"
      },
      "execution_count": null,
      "outputs": []
    },
    {
      "cell_type": "code",
      "source": [
        "# scale the data using standard scaler\n",
        "\n",
        "from sklearn import preprocessing \n",
        "scaler = preprocessing.StandardScaler()\n",
        "\n",
        "# use fit transform on X_train, Xtrain learns from fit_transform, x_test is used on \n",
        "# .transform function\n",
        "\n",
        "X_train_scaled = scaler.fit_transform(X_train)\n",
        "X_test_scaled = scaler.transform(X_test)\n",
        "\n",
        "# convert x_train and x_test to tensor obejct\n",
        "\n",
        "X_train_tens = tf.convert_to_tensor(X_train_scaled)\n",
        "X_test_tens = tf.convert_to_tensor(X_test_scaled)\n",
        "\n",
        "# convert y_train and y_test to tensor object\n",
        "\n",
        "y_train_tens = tf.convert_to_tensor(y_train)\n",
        "y_test_tens = tf.convert_to_tensor(y_test)\n"
      ],
      "metadata": {
        "id": "5yvfbFnWd0Oh"
      },
      "execution_count": null,
      "outputs": []
    },
    {
      "cell_type": "code",
      "source": [
        "len(X_train_scaled)"
      ],
      "metadata": {
        "id": "p-HeB6bfyw5g"
      },
      "execution_count": null,
      "outputs": []
    },
    {
      "cell_type": "code",
      "source": [
        "# convert data into tensors\n",
        "\n",
        "import tensorflow as tf\n",
        "from tensorflow.keras import Sequential\n",
        "from tensorflow.keras.layers import Dense, InputLayer, Dropout\n",
        "from tensorflow.keras.optimizers import Adam # Optimizer"
      ],
      "metadata": {
        "id": "GjFn8rFYfg5p"
      },
      "execution_count": null,
      "outputs": []
    },
    {
      "cell_type": "code",
      "source": [
        ""
      ],
      "metadata": {
        "id": "dig3vEMq1Qjy"
      },
      "execution_count": null,
      "outputs": []
    },
    {
      "cell_type": "markdown",
      "source": [
        "## define function to make confusion matrix\n",
        "- import libraries \n",
        "- make confusion matrix function\n"
      ],
      "metadata": {
        "id": "Y-hxjZzJCRAy"
      }
    },
    {
      "cell_type": "code",
      "source": [
        "from sklearn.metrics import confusion_matrix"
      ],
      "metadata": {
        "id": "0ZhQawdOCcYE"
      },
      "execution_count": null,
      "outputs": []
    },
    {
      "cell_type": "code",
      "execution_count": null,
      "metadata": {
        "id": "u7IYoh-MHd8g"
      },
      "outputs": [],
      "source": [
        "\n"
      ]
    },
    {
      "cell_type": "code",
      "source": [
        "\n",
        "\n"
      ],
      "metadata": {
        "id": "eIEO7UN2yPEX"
      },
      "execution_count": null,
      "outputs": []
    },
    {
      "cell_type": "code",
      "source": [
        "model = tf.keras.Sequential()\n",
        "model.add(InputLayer(input_shape=X_train_tens.shape[1]))\n",
        "\n",
        "model.add(Dense(13, activation = 'relu'))\n",
        "# model.add(Dropout(0.3))\n",
        "model.add(Dense(20, activation = 'relu'))\n",
        "# model.add(Dense(10, activation = 'relu'))\n",
        "model.add(Dropout(0.5)) \n",
        "model.add(Dense(20, activation = 'relu'))\n",
        "model.add(Dropout(0.5))\n",
        "model.add(Dense(14, activation = 'relu'))\n",
        "# model.add(Dropout(0.5)) \n",
        "# model.add(Dense(5, activation = 'relu'))\n",
        "\n",
        "# model.add(Dense(20, kernel_initializer='he_normal', activation = 'relu'))\n",
        "# model.add(Dense(20, kernel_initializer='he_normal', activation = 'relu'))\n",
        "# model.add(Dropout(0.5))\n",
        "# model.add(Dense(14, kernel_initializer='he_normal', activation = 'relu'))\n",
        "\n",
        "#model.add(Dense(1, kernel_initializer='he_normal', activation='sigmoid'))\n",
        "\n",
        "model.add(Dense(1, activation='sigmoid'))\n",
        "\n",
        "model.compile(optimizer=Adam(lr=0.0001), loss = \"binary_crossentropy\", metrics=['accuracy'])\n",
        "\n",
        "history = model.fit(X_train_tens, y_train_tens, validation_split=0.3, batch_size=128, epochs=500, verbose=1)\n",
        "\n",
        "# graph learning rate vs epochs \n",
        "\n",
        "# Storing the learing rate in each epoch \n",
        "epochhist  = pd.DataFrame(history.history)\n",
        "epochhist['epoch'] = history.epoch\n",
        "\n",
        "# Plotting accuracy at different epochs\n",
        "plt.figure(figsize=(15, 10))\n",
        "plt.plot(epochhist['loss']);\n",
        "plt.plot(epochhist['val_loss']);\n",
        "plt.legend((\"train\" , \"valid\") , loc = 0);\n"
      ],
      "metadata": {
        "id": "db6sRDJ3uyZR"
      },
      "execution_count": null,
      "outputs": []
    },
    {
      "cell_type": "code",
      "source": [
        "# make function to plot roc curve and obtain AUC\n",
        "\n",
        "!pip install plot-metric\n"
      ],
      "metadata": {
        "id": "75o2IKzBv1Tt"
      },
      "execution_count": null,
      "outputs": []
    },
    {
      "cell_type": "markdown",
      "source": [
        ""
      ],
      "metadata": {
        "id": "Trg5ZyxR_0YX"
      }
    },
    {
      "cell_type": "code",
      "source": [
        "  from plot_metric.functions import BinaryClassification\n",
        "  def graph_roc_curve(model,X_train, y_train):\n",
        "    y_pred = model.predict(X_train)\n",
        "    fpr, tpr, thresholds = roc_curve(y_train, y_pred)\n",
        "\n",
        "    max_idx = np.argmax(tpr-fpr)\n",
        "    optimal_threshold = thresholds[max_idx]\n",
        "   \n",
        "    binClassifier = BinaryClassification(y_train,y_pred, labels = [\"Class 1\", \"Class 2\"], threshold=optimal_threshold)\n",
        "# figures\n",
        "    plt.figure(figsize=(10,10))\n",
        "    binClassifier.plot_roc_curve()\n",
        "    plt.show()\n"
      ],
      "metadata": {
        "id": "tcD0eiRL_1AA"
      },
      "execution_count": null,
      "outputs": []
    },
    {
      "cell_type": "code",
      "source": [
        "graph_roc_curve(model,X_train_tens,y_train_tens)"
      ],
      "metadata": {
        "id": "9tWiaaWdijzQ"
      },
      "execution_count": null,
      "outputs": []
    },
    {
      "cell_type": "code",
      "source": [
        "## Confusion Matrix on unsee test set\n",
        "y_pred1 = model.predict(X_test_tens)\n",
        "for i in range(len(y_test_tens)):\n",
        "    if y_pred1[i]>0.5:\n",
        "        y_pred1[i]=1 \n",
        "    else:\n",
        "        y_pred1[i]=0\n",
        "\n",
        "\n",
        "\n",
        "cm2=confusion_matrix(y_test_tens, y_pred1)\n",
        "labels = ['True Negative','False Positive','False Negative','True Positive']\n",
        "categories = [ 'Not_Exited','Exited']\n",
        "make_confusion_matrix(cm2, \n",
        "                      group_names=labels,\n",
        "                      categories=categories, \n",
        "                      cmap='Blues')"
      ],
      "metadata": {
        "id": "c4OTCKAUwG30"
      },
      "execution_count": null,
      "outputs": []
    },
    {
      "cell_type": "code",
      "source": [
        "# Adding the threshold value to the confusion matrix to properly account for class imablances\n",
        "y_pred = model.predict(X_test_tens)\n",
        "fpr, tpr, thresholds = roc_curve(y_test_tens, y_pred)\n",
        "\n",
        "max_idx = np.argmax(tpr - fpr) # returns max index of all [tpr-fpr] from the tpr and fpr arrays\n",
        "optimimized_threshold = thresholds[max_idx]\n",
        "\n",
        "\n",
        "\n",
        "threshold=optimimized_threshold\n",
        "y_pred = (model.predict(X_test_tens) > threshold).astype('float')\n",
        "cm2=confusion_matrix(y_test_tens, y_pred)\n",
        "labels = ['True Negative','False Positive','False Negative','True Positive']\n",
        "categories = [ 'Not_Exited','Exited']\n",
        "make_confusion_matrix(cm2, group_names=labels,categories=categories, cmap='Blues')"
      ],
      "metadata": {
        "id": "864AYbLDy69d"
      },
      "execution_count": null,
      "outputs": []
    },
    {
      "cell_type": "markdown",
      "source": [
        "### insights with above model, overfitting the data as the valid and training loss are divergent and not converging. This model is overfitting very severely\n",
        "\n"
      ],
      "metadata": {
        "id": "jfvmQpJy_rKk"
      }
    },
    {
      "cell_type": "code",
      "source": [
        "# modify parameters of neural network to see if accuracy can increase\n",
        "\n",
        "# add more hidden layers\n",
        "\n",
        "\n",
        "model2 = tf.keras.Sequential()\n",
        "model2.add(InputLayer(input_shape=X_train_tens.shape[1]))\n",
        "\n",
        "model2.add(Dense(13, kernel_initializer='he_normal', activation = 'relu'))\n",
        "model.add(Dropout(.3))\n",
        "model2.add(Dense(20, kernel_initializer='he_normal', activation = 'relu'))\n",
        "# model.add(Dense(10, activation = 'relu'))\n",
        "model2.add(Dropout(0.5)) \n",
        "model2.add(Dense(20,kernel_initializer='he_normal', activation = 'relu'))\n",
        "model2.add(Dropout(0.5))\n",
        "model2.add(Dense(20, activation = 'relu'))\n",
        "# model.add(Dropout(0.5)) \n",
        "# model.add(Dense(5, activation = 'relu'))\n",
        "#model.add(Dropout(0.5))\n",
        "#model.add(Dense(20, kernel_initializer='he_normal', activation = 'relu'))\n",
        "# model.add(Dense(20, kernel_initializer='he_normal', activation = 'relu'))\n",
        "# model.add(Dropout(0.5))\n",
        "# model.add(Dense(14, kernel_initializer='he_normal', activation = 'relu'))\n",
        "\n",
        "#model.add(Dense(1, kernel_initializer='he_normal', activation='sigmoid'))\n",
        "\n",
        "model2.add(Dense(1, kernel_initializer = 'uniform', activation = 'sigmoid'))\n",
        "\n",
        "model2.compile(optimizer=Adam(lr=0.00001), loss = \"binary_crossentropy\", metrics=['accuracy'])\n",
        "\n",
        "history = model2.fit(X_train_tens, y_train_tens, validation_split=0.3, batch_size=64, epochs=300, verbose=1)\n",
        "\n",
        "# Storing the learing rate in each epoch \n",
        "epochhist  = pd.DataFrame(history.history)\n",
        "epochhist['epoch'] = history.epoch\n",
        "\n",
        "# Plotting accuracy at different epochs\n",
        "plt.figure(figsize=(15, 10))\n",
        "plt.plot(epochhist['loss']);\n",
        "plt.plot(epochhist['val_loss']);\n",
        "plt.legend((\"train\" , \"valid\") , loc = 0);\n"
      ],
      "metadata": {
        "id": "Z7-poe8Ptl-a"
      },
      "execution_count": null,
      "outputs": []
    },
    {
      "cell_type": "code",
      "source": [
        "graph_roc_curve(model2,X_train_tens, y_train_tens)"
      ],
      "metadata": {
        "id": "MYhxa8o1PQYs"
      },
      "execution_count": null,
      "outputs": []
    },
    {
      "cell_type": "code",
      "source": [
        "# Adding the threshold value to the confusion matrix to properly account for class imablances\n",
        "y_pred = model2.predict(X_test_tens)\n",
        "fpr, tpr, thresholds = roc_curve(y_test_tens, y_pred)\n",
        "\n",
        "max_idx = np.argmax(tpr - fpr) # returns max index of all [tpr-fpr] from the tpr and fpr arrays\n",
        "optimimized_threshold = thresholds[max_idx]\n",
        "\n",
        "\n",
        "\n",
        "threshold=optimimized_threshold\n",
        "y_pred = (model2.predict(X_test_tens) > threshold).astype('float')\n",
        "cm2=confusion_matrix(y_test_tens, y_pred)\n",
        "labels = ['True Negative','False Positive','False Negative','True Positive']\n",
        "categories = [ 'Not_Exited','Exited']\n",
        "make_confusion_matrix(cm2, group_names=labels,categories=categories, cmap='Blues')"
      ],
      "metadata": {
        "id": "-FNdlVSfIIHi"
      },
      "execution_count": null,
      "outputs": []
    },
    {
      "cell_type": "markdown",
      "source": [
        "### insights \n",
        "- At around 250 Epochs the valid loss starts to increase the model is being overfit again.\n",
        "- Next model, try lowering the learning rate and increasing batch size, run 250 epochs"
      ],
      "metadata": {
        "id": "_4hAIeXpAH2Q"
      }
    },
    {
      "cell_type": "code",
      "source": [
        "model3 = tf.keras.Sequential()\n",
        "model3.add(InputLayer(input_shape=X_train_tens.shape[1]))\n",
        "\n",
        "model3.add(Dense(13, kernel_initializer='he_normal', activation = 'relu'))\n",
        "model3.add(Dropout(.3))\n",
        "model3.add(Dense(20, kernel_initializer='he_normal', activation = 'relu'))\n",
        "# model.add(Dense(10, activation = 'relu'))\n",
        "model3.add(Dropout(0.5)) \n",
        "model3.add(Dense(20,kernel_initializer='he_normal', activation = 'relu'))\n",
        "#model3.add(Dropout(0.5))\n",
        "#model3.add(Dense(20, activation = 'relu'))\n",
        "# model.add(Dropout(0.5)) \n",
        "# model.add(Dense(5, activation = 'relu'))\n",
        "#model.add(Dropout(0.5))\n",
        "#model.add(Dense(20, kernel_initializer='he_normal', activation = 'relu'))\n",
        "# model.add(Dense(20, kernel_initializer='he_normal', activation = 'relu'))\n",
        "# model.add(Dropout(0.5))\n",
        "# model.add(Dense(14, kernel_initializer='he_normal', activation = 'relu'))\n",
        "\n",
        "#model.add(Dense(1, kernel_initializer='he_normal', activation='sigmoid'))\n",
        "\n",
        "model3.add(Dense(1, kernel_initializer = 'glorot_uniform', activation = 'sigmoid'))\n",
        "\n",
        "model3.compile(optimizer=Adam(lr=0.000005), loss = \"binary_crossentropy\", metrics=['accuracy'])\n",
        "\n",
        "history = model3.fit(X_train_tens, y_train_tens, validation_split=0.3, batch_size=256, epochs=500, verbose=1)\n",
        "\n",
        "\n",
        "# Storing the learing rate in each epoch \n",
        "epochhist  = pd.DataFrame(history.history)\n",
        "epochhist['epoch'] = history.epoch\n",
        "\n",
        "# Plotting accuracy at different epochs\n",
        "plt.figure(figsize=(15, 10))\n",
        "plt.plot(epochhist['loss']);\n",
        "plt.plot(epochhist['val_loss']);\n",
        "plt.legend((\"train\" , \"valid\") , loc = 0);"
      ],
      "metadata": {
        "id": "wb0udtcaBsHj"
      },
      "execution_count": null,
      "outputs": []
    },
    {
      "cell_type": "code",
      "source": [
        "graph_roc_curve(model3,X_train_tens,y_train_tens)"
      ],
      "metadata": {
        "id": "gy0HyGBNA4_-"
      },
      "execution_count": null,
      "outputs": []
    },
    {
      "cell_type": "code",
      "source": [
        "## Confusion Matrix on unsee test set\n",
        "y_pred1 = model3.predict(X_test_tens)\n",
        "for i in range(len(y_test_tens)):\n",
        "    if y_pred1[i]>0.5:\n",
        "        y_pred1[i]=1 \n",
        "    else:\n",
        "        y_pred1[i]=0\n",
        "\n",
        "\n",
        "\n",
        "cm2=confusion_matrix(y_test_tens, y_pred1)\n",
        "labels = ['True Negative','False Positive','False Negative','True Positive']\n",
        "categories = [ 'Not_Exited','Exited']\n",
        "make_confusion_matrix(cm2, \n",
        "                      group_names=labels,\n",
        "                      categories=categories, \n",
        "                      cmap='Blues')"
      ],
      "metadata": {
        "id": "zpusY65gFusl"
      },
      "execution_count": null,
      "outputs": []
    },
    {
      "cell_type": "code",
      "source": [
        "# Adding the threshold value to the confusion matrix to properly account for class imablances\n",
        "y_pred = model3.predict(X_test_tens)\n",
        "fpr, tpr, thresholds = roc_curve(y_test_tens, y_pred)\n",
        "\n",
        "max_idx = np.argmax(tpr - fpr) # returns max index of all [tpr-fpr] from the tpr and fpr arrays\n",
        "optimimized_threshold = thresholds[max_idx]\n",
        "\n",
        "\n",
        "\n",
        "threshold=optimimized_threshold\n",
        "y_pred = (model3.predict(X_test_tens) > threshold).astype('float')\n",
        "cm2=confusion_matrix(y_test_tens, y_pred)\n",
        "labels = ['True Negative','False Positive','False Negative','True Positive']\n",
        "categories = [ 'Not_Exited','Exited']\n",
        "make_confusion_matrix(cm2, group_names=labels,categories=categories, cmap='Blues')"
      ],
      "metadata": {
        "id": "jisoBfIb1QWC"
      },
      "execution_count": null,
      "outputs": []
    },
    {
      "cell_type": "code",
      "source": [
        ""
      ],
      "metadata": {
        "id": "tDVX-YZ7HrkH"
      },
      "execution_count": null,
      "outputs": []
    },
    {
      "cell_type": "code",
      "source": [
        "# import keras to use SGD \n",
        "from tensorflow import keras"
      ],
      "metadata": {
        "id": "jC-MByhEEcuu"
      },
      "execution_count": null,
      "outputs": []
    },
    {
      "cell_type": "markdown",
      "source": [
        "*italicized text*"
      ],
      "metadata": {
        "id": "lMQgIT5JbyzQ"
      }
    },
    {
      "cell_type": "markdown",
      "source": [
        ""
      ],
      "metadata": {
        "id": "wKMDWBnpCyxQ"
      }
    },
    {
      "cell_type": "code",
      "source": [
        "model4 = tf.keras.Sequential()\n",
        "model4.add(InputLayer(input_shape=X_train_tens.shape[1]))\n",
        "\n",
        "model4.add(Dense(13, kernel_initializer='he_normal', activation = 'relu'))\n",
        "model4.add(Dropout(.3))\n",
        "model4.add(Dense(20, kernel_initializer='he_normal', activation = 'relu'))\n",
        "# model.add(Dense(10, activation = 'relu'))\n",
        "model4.add(Dropout(0.5)) \n",
        "model4.add(Dense(20,kernel_initializer='he_normal', activation = 'relu'))\n",
        "#model3.add(Dropout(0.5))\n",
        "#model3.add(Dense(20, activation = 'relu'))\n",
        "# model.add(Dropout(0.5)) \n",
        "# model.add(Dense(5, activation = 'relu'))\n",
        "#model.add(Dropout(0.5))\n",
        "#model.add(Dense(20, kernel_initializer='he_normal', activation = 'relu'))\n",
        "# model.add(Dense(20, kernel_initializer='he_normal', activation = 'relu'))\n",
        "# model.add(Dropout(0.5))\n",
        "# model.add(Dense(14, kernel_initializer='he_normal', activation = 'relu'))\n",
        "\n",
        "#model.add(Dense(1, kernel_initializer='he_normal', activation='sigmoid'))\n",
        "\n",
        "model4.add(Dense(1, kernel_initializer = 'glorot_uniform', activation = 'sigmoid'))\n",
        "opt = keras.optimizers.SGD(learning_rate=0.000015,nesterov=True, momentum=.5, decay = .01)\n",
        "model4.compile(optimizer=opt, loss = \"binary_crossentropy\", metrics=['accuracy'])\n",
        "\n",
        "history = model3.fit(X_train_tens, y_train_tens, validation_split=0.3, batch_size=256, epochs=128, verbose=1)\n",
        "\n",
        "\n",
        "# Storing the learing rate in each epoch \n",
        "epochhist  = pd.DataFrame(history.history)\n",
        "epochhist['epoch'] = history.epoch\n",
        "\n",
        "# Plotting accuracy at different epochs\n",
        "plt.figure(figsize=(15, 10))\n",
        "plt.plot(epochhist['loss']);\n",
        "plt.plot(epochhist['val_loss']);\n",
        "plt.legend((\"train\" , \"valid\") , loc = 0);"
      ],
      "metadata": {
        "id": "Uj5gW9UbCzrF"
      },
      "execution_count": null,
      "outputs": []
    },
    {
      "cell_type": "code",
      "source": [
        "graph_roc_curve(model4, X_train_tens, y_train_tens)"
      ],
      "metadata": {
        "id": "a4VmhhvgGnZ9"
      },
      "execution_count": null,
      "outputs": []
    },
    {
      "cell_type": "code",
      "source": [
        "## Confusion Matrix on unsee test set\n",
        "y_pred1 = model4.predict(X_test_tens)\n",
        "for i in range(len(y_test_tens)):\n",
        "    if y_pred1[i]>0.5:\n",
        "        y_pred1[i]=1 \n",
        "    else:\n",
        "        y_pred1[i]=0\n",
        "\n",
        "\n",
        "\n",
        "cm2=confusion_matrix(y_test_tens, y_pred1)\n",
        "labels = ['True Negative','False Positive','False Negative','True Positive']\n",
        "categories = [ 'Not_Exited','Exited']\n",
        "make_confusion_matrix(cm2, \n",
        "                      group_names=labels,\n",
        "                      categories=categories, \n",
        "                      cmap='Blues')"
      ],
      "metadata": {
        "id": "3TCWwIxCDQSQ"
      },
      "execution_count": null,
      "outputs": []
    },
    {
      "cell_type": "code",
      "source": [
        "# Adding the threshold value to the confusion matrix to properly account for class imablances\n",
        "y_pred = model4.predict(X_test_tens)\n",
        "fpr, tpr, thresholds = roc_curve(y_test_tens, y_pred)\n",
        "\n",
        "max_idx = np.argmax(tpr - fpr) # returns max index of all [tpr-fpr] from the tpr and fpr arrays\n",
        "optimimized_threshold = thresholds[max_idx]\n",
        "\n",
        "\n",
        "\n",
        "threshold=optimimized_threshold\n",
        "y_pred = (model4.predict(X_test_tens) > threshold).astype('float')\n",
        "cm2=confusion_matrix(y_test_tens, y_pred)\n",
        "labels = ['True Negative','False Positive','False Negative','True Positive']\n",
        "categories = [ 'Not_Exited','Exited']\n",
        "make_confusion_matrix(cm2, group_names=labels,categories=categories, cmap='Blues')"
      ],
      "metadata": {
        "id": "AQl60aN-1fov"
      },
      "execution_count": null,
      "outputs": []
    },
    {
      "cell_type": "markdown",
      "source": [
        "### Hypertune neural network\n",
        "-use gridsearchcv method to hypertune \n"
      ],
      "metadata": {
        "id": "slwECmdwDQ6o"
      }
    },
    {
      "cell_type": "code",
      "source": [
        "total_0 = y_train.value_counts()[0]\n",
        "total_1 = y_train.value_counts()[1]\n",
        "total= total_0+total_1\n",
        "\n",
        "# Scaling by total/2 helps keep the loss to a similar magnitude.\n",
        "# The sum of the weights of all examples stays the same.\n",
        "weight_for_0 = (1 / total_0) * (total / 2.0)\n",
        "weight_for_1 = (1 / total_1) * (total / 2.0)\n",
        "\n",
        "class_weight = {0: weight_for_0, 1: weight_for_1}\n",
        "\n",
        "print('Weight for class 0: {:.2f}'.format(weight_for_0))\n",
        "print('Weight for class 1: {:.2f}'.format(weight_for_1))"
      ],
      "metadata": {
        "id": "6R_C_emIKb8L"
      },
      "execution_count": null,
      "outputs": []
    },
    {
      "cell_type": "code",
      "source": [
        "# first before hypertuning \n",
        "# add class weight to 1 st model and rerun and see results \n",
        "# add early stopping to model to prevent model from running if no improvement is gained \n",
        "\n",
        "\n",
        "#Training Multi-layer perceptron with 2 hidden layers\n",
        "\n",
        "#adding earlystopping callback\n",
        "es= keras.callbacks.EarlyStopping(monitor='val_loss',\n",
        "                              min_delta=0,\n",
        "                              patience=15,\n",
        " \n",
        "                             verbose=0, mode='min', restore_best_weights= True)\n",
        "\"\"\"\n",
        "monitor: Quantity to be monitored.\n",
        "min_delta: Minimum change in the monitored quantity to qualify as an improvement, \n",
        "i.e. an absolute change of less than min_delta, will count as no improvement.\n",
        "\n",
        "patience: Number of epochs with no improvement after which training will be stopped.\n",
        "mode: One of {\"auto\", \"min\", \"max\"}. In min mode, training will stop when the quantity monitored has stopped \n",
        "decreasing; in \"max\" mode it will stop when the quantity monitored has stopped increasing; in \"auto\" mode, the \n",
        "direction is automatically inferred from the name of the monitored quantity.\n",
        "restore_best_weights: Whether to restore model weights from the epoch with the best value of the monitored quantity. \n",
        "If False, the model weights obtained at the last step of training are used.\n",
        "\"\"\"\n",
        "\n",
        "\n",
        "\n",
        "model5 = tf.keras.Sequential()\n",
        "model5.add(InputLayer(input_shape=X_train_tens.shape[1]))\n",
        "\n",
        "model5.add(Dense(13, activation = 'relu'))\n",
        "# model.add(Dropout(0.3))\n",
        "model5.add(Dense(20, activation = 'relu'))\n",
        "# model.add(Dense(10, activation = 'relu'))\n",
        "model5.add(Dropout(0.5)) \n",
        "model5.add(Dense(20, activation = 'relu'))\n",
        "model5.add(Dropout(0.5))\n",
        "model5.add(Dense(14, activation = 'relu'))\n",
        "# model.add(Dropout(0.5)) \n",
        "# model.add(Dense(5, activation = 'relu'))\n",
        "\n",
        "# model.add(Dense(20, kernel_initializer='he_normal', activation = 'relu'))\n",
        "# model.add(Dense(20, kernel_initializer='he_normal', activation = 'relu'))\n",
        "# model.add(Dropout(0.5))\n",
        "# model.add(Dense(14, kernel_initializer='he_normal', activation = 'relu'))\n",
        "\n",
        "#model.add(Dense(1, kernel_initializer='he_normal', activation='sigmoid'))\n",
        "\n",
        "model5.add(Dense(1, activation='sigmoid'))\n",
        "\n",
        "model5.compile(optimizer=Adam(lr=0.00005,beta_1=.95), loss = \"binary_crossentropy\", metrics=['accuracy'])\n",
        "\n",
        "history = model5.fit(X_train_tens, y_train_tens, validation_split=0.3, batch_size=128, epochs=700, verbose=1, class_weight=class_weight, callbacks=[es])\n",
        "\n",
        "# graph learning rate vs epochs \n",
        "\n",
        "# Storing the learing rate in each epoch \n",
        "epochhist  = pd.DataFrame(history.history)\n",
        "epochhist['epoch'] = history.epoch\n",
        "\n",
        "# Plotting accuracy at different epochs\n",
        "plt.figure(figsize=(15, 10))\n",
        "plt.plot(epochhist['loss']);\n",
        "plt.plot(epochhist['val_loss']);\n",
        "plt.legend((\"train\" , \"valid\") , loc = 0);\n",
        "\n"
      ],
      "metadata": {
        "id": "2ihXHMw3G1Iu"
      },
      "execution_count": null,
      "outputs": []
    },
    {
      "cell_type": "markdown",
      "source": [
        ""
      ],
      "metadata": {
        "id": "_wE51-GuQ_1g"
      }
    },
    {
      "cell_type": "code",
      "source": [
        "graph_roc_curve(model5,X_train_tens,y_train_tens)"
      ],
      "metadata": {
        "id": "lRminNQTRAeG"
      },
      "execution_count": null,
      "outputs": []
    },
    {
      "cell_type": "code",
      "source": [
        "# Adding the threshold value to the confusion matrix to properly account for class imablances\n",
        "y_pred = model5.predict(X_test_tens)\n",
        "fpr, tpr, thresholds = roc_curve(y_test_tens, y_pred)\n",
        "\n",
        "max_idx = np.argmax(tpr - fpr) # returns max index of all [tpr-fpr] from the tpr and fpr arrays\n",
        "optimimized_threshold = thresholds[max_idx]\n",
        "\n",
        "\n",
        "\n",
        "threshold=optimimized_threshold\n",
        "y_pred = (model5.predict(X_test_tens) > threshold).astype('float')\n",
        "cm2=confusion_matrix(y_test_tens, y_pred)\n",
        "labels = ['True Negative','False Positive','False Negative','True Positive']\n",
        "categories = [ 'Not_Exited','Exited']\n",
        "make_confusion_matrix(cm2, group_names=labels,categories=categories, cmap='Blues')"
      ],
      "metadata": {
        "id": "IKGBC7uu1zKK"
      },
      "execution_count": null,
      "outputs": []
    },
    {
      "cell_type": "code",
      "source": [
        "#To hypertune parameters use keras classifier and build instance\n",
        "# of model\n",
        "# use classifier to pass it build model as an argument of the function\n",
        "# with the classifier we can pass the whole model as an esitmator parameter in gridsearch cv\n",
        "\n",
        "from tensorflow import keras # importing keras library\n",
        "from tensorflow.keras.wrappers.scikit_learn import KerasClassifier\n",
        "from sklearn.model_selection import GridSearchCV\n",
        "def build_model(optimizer):\n",
        "    model = tf.keras.Sequential()\n",
        "    model.add(InputLayer(input_shape=X_train_tens.shape[1]))\n",
        "\n",
        "    model.add(Dense(13, kernel_initializer= 'he_normal', activation = 'relu'))\n",
        "\n",
        "    model.add(Dense(20, kernel_initializer= 'he_normal', activation = 'relu'))\n",
        "    model.add(Dropout(0.5))\n",
        "    model.add(Dense(20, kernel_initializer= 'he_normal', activation = 'relu'))\n",
        "    model.add(Dropout(0.5))\n",
        "    model.add(Dense(14, kernel_initializer= 'he_normal', activation = 'relu'))\n",
        "\n",
        "    model.add(Dense(1, kernel_initializer= 'he_normal', activation='sigmoid'))\n",
        "\n",
        "    model.compile(optimizer=optimizer, loss = \"binary_crossentropy\", metrics=['accuracy'])\n",
        "    #X_train_tens, y_train_tens, validation_split=0.3, batch_size=128, epochs=700, verbose=1, class_weight=class_weight, callbacks=[es])\n",
        "\n",
        "    return model\n",
        "\n",
        "model = KerasClassifier(build_fn = build_model)\n",
        "parameters = {'batch_size': [32,64,128,256],\n",
        "              'epochs': [50,100],\n",
        "              'optimizer': ['adam', 'rmsprop']}\n",
        "\n",
        "     \n",
        "grid_search = GridSearchCV(estimator = model,\n",
        "                           param_grid = parameters,\n",
        "                           scoring = 'recall',\n",
        "                           cv = 5)\n",
        "\n",
        "grid_search = grid_search.fit(X_train_scaled, y_train,verbose = 1,class_weight=class_weight, validation_split = 0.3, callbacks = [es])\n",
        "#grid_search = grid_search.fit(X_train_scaled, y_train_tens,verbose = 1)\n",
        "best_parameters = grid_search.best_params_\n",
        "best_accuracy = grid_search.best_score_"
      ],
      "metadata": {
        "id": "adHPNlghDZXP"
      },
      "execution_count": null,
      "outputs": []
    },
    {
      "cell_type": "code",
      "source": [
        "print(best_accuracy)\n",
        "print(best_parameters)"
      ],
      "metadata": {
        "id": "sQOzP3VqldDp"
      },
      "execution_count": null,
      "outputs": []
    },
    {
      "cell_type": "code",
      "source": [
        "\n"
      ],
      "metadata": {
        "id": "Rld0SoXumOGi"
      },
      "execution_count": null,
      "outputs": []
    },
    {
      "cell_type": "code",
      "source": [
        ""
      ],
      "metadata": {
        "id": "PY3I0GEGpdrn"
      },
      "execution_count": null,
      "outputs": []
    },
    {
      "cell_type": "markdown",
      "source": [
        "### insights about neural networks and model building \n",
        "\n",
        "- model 1 gave the best results\n",
        "- this was the base model for hypertuning\n",
        "- This model had the highest AUC @ .85\n",
        "  - meaning this model had the highest probablity of having true positives occur.\n",
        "\n",
        "### The metric that was choosen is recall, we want to maximize true positives(customers churning actually) and minimize false negatives(predicting customers leaving bank but they didnt) \n",
        "\n",
        "### Take model parameters from best_params and build model, change learning rate and build other models"
      ],
      "metadata": {
        "id": "1tmWjVAgmVfr"
      }
    },
    {
      "cell_type": "markdown",
      "source": [
        ""
      ],
      "metadata": {
        "id": "MHdxQtmGmURh"
      }
    },
    {
      "cell_type": "code",
      "source": [
        ""
      ],
      "metadata": {
        "id": "ZTuR7Ba7qUdd"
      },
      "execution_count": null,
      "outputs": []
    },
    {
      "cell_type": "markdown",
      "source": [
        "### USE opitmal threshold and use that to calculate model predictions in the confusion matrix"
      ],
      "metadata": {
        "id": "l-vKRCbAoxLM"
      }
    },
    {
      "cell_type": "code",
      "source": [
        "# build model with hypertuned parameter LR = .001\n",
        "model6 = tf.keras.Sequential()\n",
        "model6.add(InputLayer(input_shape=X_train_tens.shape[1]))\n",
        "\n",
        "\n",
        "\n",
        "model6.add(Dense(12, kernel_initializer= 'he_normal', activation = 'relu'))\n",
        "\n",
        "model6.add(Dense(12, kernel_initializer= 'he_normal', activation = 'relu'))\n",
        "model6.add(Dropout(0.5))\n",
        "model6.add(Dense(12, kernel_initializer= 'he_normal', activation = 'relu'))\n",
        "model6.add(Dropout(0.5))\n",
        "model6.add(Dense(12, kernel_initializer= 'he_normal', activation = 'relu'))\n",
        "\n",
        "model6.add(Dense(1, kernel_initializer= 'he_normal', activation='sigmoid'))\n",
        "model6.compile(optimizer=Adam(lr=0.001,beta_1=.95), loss = \"binary_crossentropy\", metrics=['accuracy'])\n",
        "\n",
        "history = model6.fit(X_train_tens, y_train_tens, validation_split=0.3, batch_size=132, epochs=100, verbose=1, class_weight=class_weight, callbacks=[es])\n"
      ],
      "metadata": {
        "id": "BWw3crvpqUlP"
      },
      "execution_count": null,
      "outputs": []
    },
    {
      "cell_type": "code",
      "source": [
        "graph_roc_curve(model6,X_train_tens,y_train_tens)"
      ],
      "metadata": {
        "id": "i-5RopIysN5H"
      },
      "execution_count": null,
      "outputs": []
    },
    {
      "cell_type": "code",
      "source": [
        "# Adding the threshold value to the confusion matrix to properly account for class imablances\n",
        "y_pred = model6.predict(X_test_tens)\n",
        "fpr, tpr, thresholds = roc_curve(y_test_tens, y_pred)\n",
        "\n",
        "max_idx = np.argmax(tpr - fpr) # returns max index of all [tpr-fpr] from the tpr and fpr arrays\n",
        "optimimized_threshold = thresholds[max_idx]\n",
        "\n",
        "\n",
        "\n",
        "threshold=optimimized_threshold\n",
        "y_pred = (model6.predict(X_test_tens) > threshold).astype('float')\n",
        "cm2=confusion_matrix(y_test_tens, y_pred)\n",
        "labels = ['True Negative','False Positive','False Negative','True Positive']\n",
        "categories = [ 'Not_Exited','Exited']\n",
        "make_confusion_matrix(cm2, group_names=labels,categories=categories, cmap='Blues')"
      ],
      "metadata": {
        "id": "LIDMJT9krqD0"
      },
      "execution_count": null,
      "outputs": []
    },
    {
      "cell_type": "code",
      "source": [
        "# build model with .0001 learning rate\n",
        "model7 = tf.keras.Sequential()\n",
        "model7.add(InputLayer(input_shape=X_train_tens.shape[1]))\n",
        "\n",
        "\n",
        "\n",
        "model7.add(Dense(12, kernel_initializer= 'he_normal', activation = 'relu'))\n",
        "\n",
        "model7.add(Dense(12, kernel_initializer= 'he_normal', activation = 'relu'))\n",
        "model7.add(Dropout(0.5))\n",
        "model7.add(Dense(12, kernel_initializer= 'he_normal', activation = 'relu'))\n",
        "model7.add(Dropout(0.5))\n",
        "model7.add(Dense(12, kernel_initializer= 'he_normal', activation = 'relu'))\n",
        "\n",
        "model7.add(Dense(1, kernel_initializer= 'he_normal', activation='sigmoid'))\n",
        "model7.compile(optimizer=Adam(lr=0.0001,beta_1=.95), loss = \"binary_crossentropy\", metrics=['accuracy'])\n",
        "\n",
        "history = model7.fit(X_train_tens, y_train_tens, validation_split=0.3, batch_size=32, epochs=100, verbose=1, class_weight=class_weight, callbacks=[es])\n",
        "# Storing the learing rate in each epoch \n",
        "epochhist  = pd.DataFrame(history.history)\n",
        "epochhist['epoch'] = history.epoch\n",
        "\n",
        "# Plotting accuracy at different epochs\n",
        "plt.figure(figsize=(15, 10))\n",
        "plt.plot(epochhist['loss']);\n",
        "plt.plot(epochhist['val_loss']);\n",
        "plt.legend((\"train\" , \"valid\") , loc = 0);"
      ],
      "metadata": {
        "id": "usQI4fgQr53s"
      },
      "execution_count": null,
      "outputs": []
    },
    {
      "cell_type": "code",
      "source": [
        "graph_roc_curve(model7,X_train_tens,y_train_tens)"
      ],
      "metadata": {
        "id": "gdFBZMShsxzP"
      },
      "execution_count": null,
      "outputs": []
    },
    {
      "cell_type": "code",
      "source": [
        "# Adding the threshold value to the confusion matrix to properly account for class imablances\n",
        "y_pred = model7.predict(X_test_tens)\n",
        "fpr, tpr, thresholds = roc_curve(y_test_tens, y_pred)\n",
        "\n",
        "max_idx = np.argmax(tpr - fpr) # returns max index of all [tpr-fpr] from the tpr and fpr arrays\n",
        "optimimized_threshold = thresholds[max_idx]\n",
        "\n",
        "\n",
        "\n",
        "threshold=optimimized_threshold\n",
        "y_pred = (model7.predict(X_test_tens) > threshold).astype('float')\n",
        "cm2=confusion_matrix(y_test_tens, y_pred)\n",
        "labels = ['True Negative','False Positive','False Negative','True Positive']\n",
        "categories = [ 'Not_Exited','Exited']\n",
        "make_confusion_matrix(cm2, group_names=labels,categories=categories, cmap='Blues')"
      ],
      "metadata": {
        "id": "L92TDSgV2O54"
      },
      "execution_count": null,
      "outputs": []
    },
    {
      "cell_type": "code",
      "source": [
        "# build model with .00001 learning rate \n",
        "\n",
        "# build model with .0001 learning rate\n",
        "model8 = tf.keras.Sequential()\n",
        "model8.add(InputLayer(input_shape=X_train_tens.shape[1]))\n",
        "\n",
        "\n",
        "\n",
        "model8.add(Dense(12, kernel_initializer= 'he_normal', activation = 'relu'))\n",
        "\n",
        "model8.add(Dense(12, kernel_initializer= 'he_normal', activation = 'relu'))\n",
        "model8.add(Dropout(0.5))\n",
        "model8.add(Dense(12, kernel_initializer= 'he_normal', activation = 'relu'))\n",
        "model8.add(Dropout(0.5))\n",
        "model8.add(Dense(12, kernel_initializer= 'he_normal', activation = 'relu'))\n",
        "\n",
        "model8.add(Dense(1, kernel_initializer= 'he_normal', activation='sigmoid'))\n",
        "model8.compile(optimizer=Adam(lr=0.00001,beta_1=.95), loss = \"binary_crossentropy\", metrics=['accuracy'])\n",
        "\n",
        "history = model8.fit(X_train_tens, y_train_tens, validation_split=0.3, batch_size=32, epochs=100, verbose=1, class_weight=class_weight, callbacks=[es])\n",
        "# Storing the learing rate in each epoch \n",
        "epochhist  = pd.DataFrame(history.history)\n",
        "epochhist['epoch'] = history.epoch\n",
        "\n",
        "# Plotting accuracy at different epochs\n",
        "plt.figure(figsize=(15, 10))\n",
        "plt.plot(epochhist['loss']);\n",
        "plt.plot(epochhist['val_loss']);\n",
        "plt.legend((\"train\" , \"valid\") , loc = 0);"
      ],
      "metadata": {
        "id": "gkTidNkFtEl9"
      },
      "execution_count": null,
      "outputs": []
    },
    {
      "cell_type": "code",
      "source": [
        "graph_roc_curve(model8,X_train_tens,y_train_tens)"
      ],
      "metadata": {
        "id": "5QcPDXOFtqfl"
      },
      "execution_count": null,
      "outputs": []
    },
    {
      "cell_type": "code",
      "source": [
        "# build model with hypertuned parameter LR = .001\n",
        "model9 = tf.keras.Sequential()\n",
        "model9.add(InputLayer(input_shape=X_train_tens.shape[1]))\n",
        "\n",
        "\n",
        "\n",
        "model9.add(Dense(12, kernel_initializer= 'he_normal', activation = 'relu'))\n",
        "\n",
        "model9.add(Dense(12, kernel_initializer= 'he_normal', activation = 'relu'))\n",
        "model9.add(Dropout(0.5))\n",
        "model9.add(Dense(12, kernel_initializer= 'he_normal', activation = 'relu'))\n",
        "model9.add(Dropout(0.5))\n",
        "model9.add(Dense(12, kernel_initializer= 'he_normal', activation = 'relu'))\n",
        "\n",
        "model9.add(Dense(1, kernel_initializer= 'he_normal', activation='sigmoid'))\n",
        "model9.compile(optimizer=Adam(lr=0.001,beta_1=.95), loss = \"binary_crossentropy\", metrics=['accuracy'])\n",
        "\n",
        "history = model9.fit(X_train_tens, y_train_tens, validation_split=0.3, batch_size=64, epochs=400, verbose=1, class_weight=class_weight, callbacks=[es])\n",
        "# Storing the learing rate in each epoch \n",
        "epochhist  = pd.DataFrame(history.history)\n",
        "epochhist['epoch'] = history.epoch\n",
        "\n",
        "# Plotting accuracy at different epochs\n",
        "plt.figure(figsize=(15, 10))\n",
        "plt.plot(epochhist['loss']);\n",
        "plt.plot(epochhist['val_loss']);\n",
        "plt.legend((\"train\" , \"valid\") , loc = 0);\n"
      ],
      "metadata": {
        "id": "6pXKyZXuuDP4"
      },
      "execution_count": null,
      "outputs": []
    },
    {
      "cell_type": "code",
      "source": [
        "graph_roc_curve(model9,X_train_tens,y_train_tens)"
      ],
      "metadata": {
        "id": "LmBnXo7SrdTQ"
      },
      "execution_count": null,
      "outputs": []
    },
    {
      "cell_type": "code",
      "source": [
        "# Adding the threshold value to the confusion matrix to properly account for class imablances\n",
        "y_pred = model9.predict(X_test_tens)\n",
        "fpr, tpr, thresholds = roc_curve(y_test_tens, y_pred)\n",
        "\n",
        "max_idx = np.argmax(tpr - fpr) # returns max index of all [tpr-fpr] from the tpr and fpr arrays\n",
        "optimimized_threshold = thresholds[max_idx]\n",
        "\n",
        "\n",
        "\n",
        "threshold=optimimized_threshold\n",
        "y_pred = (model9.predict(X_test_tens) > threshold).astype('float')\n",
        "cm2=confusion_matrix(y_test_tens, y_pred)\n",
        "labels = ['True Negative','False Positive','False Negative','True Positive']\n",
        "categories = [ 'Not_Exited','Exited']\n",
        "make_confusion_matrix(cm2, group_names=labels,categories=categories, cmap='Blues')"
      ],
      "metadata": {
        "id": "6mmYt-bs2idT"
      },
      "execution_count": null,
      "outputs": []
    },
    {
      "cell_type": "code",
      "source": [
        ""
      ],
      "metadata": {
        "id": "cNsyLuUC2cwl"
      },
      "execution_count": null,
      "outputs": []
    },
    {
      "cell_type": "markdown",
      "source": [
        "### Conclusions and business reccomendations \n",
        "\n",
        "- The model can account 75% accuaracy and 76% recall \n",
        "  - This was acheived by using a threshold from the optimal threshold on the ROC curve by determining the optimal threshold for all of the values of [tpr-fpr]\n",
        "  - I also took into account of the class weight imabalance and used the class weights from each class of the \"Exited\" column to further improve the model as well.  \n",
        "- so approx 25% of the customers it can't predict for\n",
        " - This is the highest recall that i have achieved throughout the models. \n",
        " - This model could be further tuned and perhaps improved, to further reduce loss and improve model performance. \n",
        " - The bank should try and offer more incentives to get the customers to sign up for more products\n",
        "  - this may help retain customers for longer tenure periods as well. \n"
      ],
      "metadata": {
        "id": "5d3Df_2Ytqx4"
      }
    },
    {
      "cell_type": "code",
      "source": [
        ""
      ],
      "metadata": {
        "id": "yPUwdZYy8Dl3"
      },
      "execution_count": null,
      "outputs": []
    }
  ]
}